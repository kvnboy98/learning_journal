{
 "cells": [
  {
   "cell_type": "markdown",
   "metadata": {},
   "source": [
    "# MILESTONE PHASE 0\n",
    ">\n",
    "`Kevin Boy Gunawan`\n",
    ">\n",
    "`FTDS-009`"
   ]
  },
  {
   "cell_type": "markdown",
   "metadata": {},
   "source": [
    "## Perkenalan\n"
   ]
  },
  {
   "cell_type": "code",
   "execution_count": 79,
   "metadata": {},
   "outputs": [],
   "source": [
    "import pandas as pd\n",
    "import numpy as np\n",
    "import matplotlib.pyplot as plt\n",
    "import seaborn as sns\n",
    "from scipy import stats"
   ]
  },
  {
   "cell_type": "code",
   "execution_count": 80,
   "metadata": {},
   "outputs": [],
   "source": [
    "df = pd.read_csv('supermarket_sales.csv')"
   ]
  },
  {
   "cell_type": "code",
   "execution_count": 81,
   "metadata": {},
   "outputs": [
    {
     "data": {
      "text/html": [
       "<div>\n",
       "<style scoped>\n",
       "    .dataframe tbody tr th:only-of-type {\n",
       "        vertical-align: middle;\n",
       "    }\n",
       "\n",
       "    .dataframe tbody tr th {\n",
       "        vertical-align: top;\n",
       "    }\n",
       "\n",
       "    .dataframe thead th {\n",
       "        text-align: right;\n",
       "    }\n",
       "</style>\n",
       "<table border=\"1\" class=\"dataframe\">\n",
       "  <thead>\n",
       "    <tr style=\"text-align: right;\">\n",
       "      <th></th>\n",
       "      <th>Invoice ID</th>\n",
       "      <th>Branch</th>\n",
       "      <th>City</th>\n",
       "      <th>Customer type</th>\n",
       "      <th>Gender</th>\n",
       "      <th>Product line</th>\n",
       "      <th>Unit price</th>\n",
       "      <th>Quantity</th>\n",
       "      <th>Tax 5%</th>\n",
       "      <th>Total</th>\n",
       "      <th>Date</th>\n",
       "      <th>Time</th>\n",
       "      <th>Payment</th>\n",
       "      <th>cogs</th>\n",
       "      <th>gross margin percentage</th>\n",
       "      <th>gross income</th>\n",
       "      <th>Rating</th>\n",
       "    </tr>\n",
       "  </thead>\n",
       "  <tbody>\n",
       "    <tr>\n",
       "      <th>0</th>\n",
       "      <td>750-67-8428</td>\n",
       "      <td>A</td>\n",
       "      <td>Yangon</td>\n",
       "      <td>Member</td>\n",
       "      <td>Female</td>\n",
       "      <td>Health and beauty</td>\n",
       "      <td>74.69</td>\n",
       "      <td>7</td>\n",
       "      <td>26.1415</td>\n",
       "      <td>548.9715</td>\n",
       "      <td>1/5/2019</td>\n",
       "      <td>13:08</td>\n",
       "      <td>Ewallet</td>\n",
       "      <td>522.83</td>\n",
       "      <td>4.761905</td>\n",
       "      <td>26.1415</td>\n",
       "      <td>9.1</td>\n",
       "    </tr>\n",
       "    <tr>\n",
       "      <th>1</th>\n",
       "      <td>226-31-3081</td>\n",
       "      <td>C</td>\n",
       "      <td>Naypyitaw</td>\n",
       "      <td>Normal</td>\n",
       "      <td>Female</td>\n",
       "      <td>Electronic accessories</td>\n",
       "      <td>15.28</td>\n",
       "      <td>5</td>\n",
       "      <td>3.8200</td>\n",
       "      <td>80.2200</td>\n",
       "      <td>3/8/2019</td>\n",
       "      <td>10:29</td>\n",
       "      <td>Cash</td>\n",
       "      <td>76.40</td>\n",
       "      <td>4.761905</td>\n",
       "      <td>3.8200</td>\n",
       "      <td>9.6</td>\n",
       "    </tr>\n",
       "    <tr>\n",
       "      <th>2</th>\n",
       "      <td>631-41-3108</td>\n",
       "      <td>A</td>\n",
       "      <td>Yangon</td>\n",
       "      <td>Normal</td>\n",
       "      <td>Male</td>\n",
       "      <td>Home and lifestyle</td>\n",
       "      <td>46.33</td>\n",
       "      <td>7</td>\n",
       "      <td>16.2155</td>\n",
       "      <td>340.5255</td>\n",
       "      <td>3/3/2019</td>\n",
       "      <td>13:23</td>\n",
       "      <td>Credit card</td>\n",
       "      <td>324.31</td>\n",
       "      <td>4.761905</td>\n",
       "      <td>16.2155</td>\n",
       "      <td>7.4</td>\n",
       "    </tr>\n",
       "    <tr>\n",
       "      <th>3</th>\n",
       "      <td>123-19-1176</td>\n",
       "      <td>A</td>\n",
       "      <td>Yangon</td>\n",
       "      <td>Member</td>\n",
       "      <td>Male</td>\n",
       "      <td>Health and beauty</td>\n",
       "      <td>58.22</td>\n",
       "      <td>8</td>\n",
       "      <td>23.2880</td>\n",
       "      <td>489.0480</td>\n",
       "      <td>1/27/2019</td>\n",
       "      <td>20:33</td>\n",
       "      <td>Ewallet</td>\n",
       "      <td>465.76</td>\n",
       "      <td>4.761905</td>\n",
       "      <td>23.2880</td>\n",
       "      <td>8.4</td>\n",
       "    </tr>\n",
       "    <tr>\n",
       "      <th>4</th>\n",
       "      <td>373-73-7910</td>\n",
       "      <td>A</td>\n",
       "      <td>Yangon</td>\n",
       "      <td>Normal</td>\n",
       "      <td>Male</td>\n",
       "      <td>Sports and travel</td>\n",
       "      <td>86.31</td>\n",
       "      <td>7</td>\n",
       "      <td>30.2085</td>\n",
       "      <td>634.3785</td>\n",
       "      <td>2/8/2019</td>\n",
       "      <td>10:37</td>\n",
       "      <td>Ewallet</td>\n",
       "      <td>604.17</td>\n",
       "      <td>4.761905</td>\n",
       "      <td>30.2085</td>\n",
       "      <td>5.3</td>\n",
       "    </tr>\n",
       "    <tr>\n",
       "      <th>5</th>\n",
       "      <td>699-14-3026</td>\n",
       "      <td>C</td>\n",
       "      <td>Naypyitaw</td>\n",
       "      <td>Normal</td>\n",
       "      <td>Male</td>\n",
       "      <td>Electronic accessories</td>\n",
       "      <td>85.39</td>\n",
       "      <td>7</td>\n",
       "      <td>29.8865</td>\n",
       "      <td>627.6165</td>\n",
       "      <td>3/25/2019</td>\n",
       "      <td>18:30</td>\n",
       "      <td>Ewallet</td>\n",
       "      <td>597.73</td>\n",
       "      <td>4.761905</td>\n",
       "      <td>29.8865</td>\n",
       "      <td>4.1</td>\n",
       "    </tr>\n",
       "    <tr>\n",
       "      <th>6</th>\n",
       "      <td>355-53-5943</td>\n",
       "      <td>A</td>\n",
       "      <td>Yangon</td>\n",
       "      <td>Member</td>\n",
       "      <td>Female</td>\n",
       "      <td>Electronic accessories</td>\n",
       "      <td>68.84</td>\n",
       "      <td>6</td>\n",
       "      <td>20.6520</td>\n",
       "      <td>433.6920</td>\n",
       "      <td>2/25/2019</td>\n",
       "      <td>14:36</td>\n",
       "      <td>Ewallet</td>\n",
       "      <td>413.04</td>\n",
       "      <td>4.761905</td>\n",
       "      <td>20.6520</td>\n",
       "      <td>5.8</td>\n",
       "    </tr>\n",
       "    <tr>\n",
       "      <th>7</th>\n",
       "      <td>315-22-5665</td>\n",
       "      <td>C</td>\n",
       "      <td>Naypyitaw</td>\n",
       "      <td>Normal</td>\n",
       "      <td>Female</td>\n",
       "      <td>Home and lifestyle</td>\n",
       "      <td>73.56</td>\n",
       "      <td>10</td>\n",
       "      <td>36.7800</td>\n",
       "      <td>772.3800</td>\n",
       "      <td>2/24/2019</td>\n",
       "      <td>11:38</td>\n",
       "      <td>Ewallet</td>\n",
       "      <td>735.60</td>\n",
       "      <td>4.761905</td>\n",
       "      <td>36.7800</td>\n",
       "      <td>8.0</td>\n",
       "    </tr>\n",
       "  </tbody>\n",
       "</table>\n",
       "</div>"
      ],
      "text/plain": [
       "    Invoice ID Branch       City Customer type  Gender  \\\n",
       "0  750-67-8428      A     Yangon        Member  Female   \n",
       "1  226-31-3081      C  Naypyitaw        Normal  Female   \n",
       "2  631-41-3108      A     Yangon        Normal    Male   \n",
       "3  123-19-1176      A     Yangon        Member    Male   \n",
       "4  373-73-7910      A     Yangon        Normal    Male   \n",
       "5  699-14-3026      C  Naypyitaw        Normal    Male   \n",
       "6  355-53-5943      A     Yangon        Member  Female   \n",
       "7  315-22-5665      C  Naypyitaw        Normal  Female   \n",
       "\n",
       "             Product line  Unit price  Quantity   Tax 5%     Total       Date  \\\n",
       "0       Health and beauty       74.69         7  26.1415  548.9715   1/5/2019   \n",
       "1  Electronic accessories       15.28         5   3.8200   80.2200   3/8/2019   \n",
       "2      Home and lifestyle       46.33         7  16.2155  340.5255   3/3/2019   \n",
       "3       Health and beauty       58.22         8  23.2880  489.0480  1/27/2019   \n",
       "4       Sports and travel       86.31         7  30.2085  634.3785   2/8/2019   \n",
       "5  Electronic accessories       85.39         7  29.8865  627.6165  3/25/2019   \n",
       "6  Electronic accessories       68.84         6  20.6520  433.6920  2/25/2019   \n",
       "7      Home and lifestyle       73.56        10  36.7800  772.3800  2/24/2019   \n",
       "\n",
       "    Time      Payment    cogs  gross margin percentage  gross income  Rating  \n",
       "0  13:08      Ewallet  522.83                 4.761905       26.1415     9.1  \n",
       "1  10:29         Cash   76.40                 4.761905        3.8200     9.6  \n",
       "2  13:23  Credit card  324.31                 4.761905       16.2155     7.4  \n",
       "3  20:33      Ewallet  465.76                 4.761905       23.2880     8.4  \n",
       "4  10:37      Ewallet  604.17                 4.761905       30.2085     5.3  \n",
       "5  18:30      Ewallet  597.73                 4.761905       29.8865     4.1  \n",
       "6  14:36      Ewallet  413.04                 4.761905       20.6520     5.8  \n",
       "7  11:38      Ewallet  735.60                 4.761905       36.7800     8.0  "
      ]
     },
     "execution_count": 81,
     "metadata": {},
     "output_type": "execute_result"
    }
   ],
   "source": [
    "df.head(8)"
   ]
  },
  {
   "cell_type": "code",
   "execution_count": 82,
   "metadata": {},
   "outputs": [
    {
     "name": "stdout",
     "output_type": "stream",
     "text": [
      "<class 'pandas.core.frame.DataFrame'>\n",
      "RangeIndex: 1000 entries, 0 to 999\n",
      "Data columns (total 17 columns):\n",
      " #   Column                   Non-Null Count  Dtype  \n",
      "---  ------                   --------------  -----  \n",
      " 0   Invoice ID               1000 non-null   object \n",
      " 1   Branch                   1000 non-null   object \n",
      " 2   City                     1000 non-null   object \n",
      " 3   Customer type            1000 non-null   object \n",
      " 4   Gender                   1000 non-null   object \n",
      " 5   Product line             1000 non-null   object \n",
      " 6   Unit price               1000 non-null   float64\n",
      " 7   Quantity                 1000 non-null   int64  \n",
      " 8   Tax 5%                   1000 non-null   float64\n",
      " 9   Total                    1000 non-null   float64\n",
      " 10  Date                     1000 non-null   object \n",
      " 11  Time                     1000 non-null   object \n",
      " 12  Payment                  1000 non-null   object \n",
      " 13  cogs                     1000 non-null   float64\n",
      " 14  gross margin percentage  1000 non-null   float64\n",
      " 15  gross income             1000 non-null   float64\n",
      " 16  Rating                   1000 non-null   float64\n",
      "dtypes: float64(7), int64(1), object(9)\n",
      "memory usage: 132.9+ KB\n"
     ]
    }
   ],
   "source": [
    "df.info()"
   ]
  },
  {
   "cell_type": "code",
   "execution_count": 83,
   "metadata": {},
   "outputs": [],
   "source": [
    "df = df.rename(columns={\n",
    "    'Invoice ID': 'invoice_id', 'Branch': 'branch', 'City': 'city', 'Customer type': 'cust_type',\n",
    "    'Gender': 'gender', 'Product line': 'products', 'Unit price': 'unit_price', 'Quantity': 'qty', \n",
    "    'Tax 5%': 'tax5%', 'Total': 'total', 'Payment': 'payment', 'gross margin percentage': 'gross_margin',\n",
    "    'gross income': 'gross_income', 'Rating': 'rating'}\n",
    "    )"
   ]
  },
  {
   "cell_type": "code",
   "execution_count": 84,
   "metadata": {},
   "outputs": [],
   "source": [
    "df['rating3'] = 'empty'\n",
    "df['rating2'] = 'empty'\n",
    "for i in range(df.shape[0]):\n",
    "    df.iloc[i,-2] = df.iloc[i,16]/10*5\n",
    "    if 5 >= df.iloc[i,-2] >4:\n",
    "        df.iloc[i,-1] = 'Very Good'\n",
    "    elif 4 >= df.iloc[i,-2] >3:\n",
    "        df.iloc[i,-1] = 'Good'\n",
    "    elif 3 >= df.iloc[i,-2] >2:\n",
    "        df.iloc[i,-1] = 'Not Good'\n",
    "    elif 2 >= df.iloc[i,-2] >1:\n",
    "        df.iloc[i,-1] = 'Bad'\n",
    "    else:\n",
    "        df.iloc[i,-1] = 'Very Bad'\n",
    "df = df.drop(columns='rating3')"
   ]
  },
  {
   "cell_type": "code",
   "execution_count": 85,
   "metadata": {},
   "outputs": [],
   "source": [
    "df['branch_city'] = 'empty'\n",
    "for i in range(df.shape[0]):\n",
    "    df.iloc[i,-1] = df.iloc[i,2]+'/'+df.iloc[i,1]\n",
    "df = df.drop(columns=['branch', 'city'])\n"
   ]
  },
  {
   "cell_type": "code",
   "execution_count": 86,
   "metadata": {},
   "outputs": [],
   "source": [
    "df['hour'] = 0.0\n",
    "df['minute'] = 0.0\n",
    "for i in range(df.shape[0]):\n",
    "    df.iloc[i,-2] = float(df.iloc[i,9][0:2])\n",
    "    df.iloc[i,-1] = float(df.iloc[i,9][3:5])\n",
    "    #df.iloc[i,-1] = str(round(float(df.iloc[i,9][0:2]) + float(df.iloc[i,9][3:5])/60, 0))"
   ]
  },
  {
   "cell_type": "code",
   "execution_count": 87,
   "metadata": {},
   "outputs": [],
   "source": [
    "df.Date = pd.to_datetime(df.Date)"
   ]
  },
  {
   "cell_type": "code",
   "execution_count": 88,
   "metadata": {},
   "outputs": [],
   "source": [
    "df['day'] = 0\n",
    "df['month'] = 0\n",
    "for i in range(df.shape[0]):\n",
    "    df.iloc[i,-2] = int(df.iloc[i,8].day)\n",
    "    df.iloc[i,-1] = int(df.iloc[i,8].month)"
   ]
  },
  {
   "cell_type": "code",
   "execution_count": 89,
   "metadata": {},
   "outputs": [
    {
     "data": {
      "text/html": [
       "<div>\n",
       "<style scoped>\n",
       "    .dataframe tbody tr th:only-of-type {\n",
       "        vertical-align: middle;\n",
       "    }\n",
       "\n",
       "    .dataframe tbody tr th {\n",
       "        vertical-align: top;\n",
       "    }\n",
       "\n",
       "    .dataframe thead th {\n",
       "        text-align: right;\n",
       "    }\n",
       "</style>\n",
       "<table border=\"1\" class=\"dataframe\">\n",
       "  <thead>\n",
       "    <tr style=\"text-align: right;\">\n",
       "      <th></th>\n",
       "      <th>invoice_id</th>\n",
       "      <th>cust_type</th>\n",
       "      <th>gender</th>\n",
       "      <th>products</th>\n",
       "      <th>unit_price</th>\n",
       "      <th>qty</th>\n",
       "      <th>tax5%</th>\n",
       "      <th>total</th>\n",
       "      <th>Date</th>\n",
       "      <th>Time</th>\n",
       "      <th>...</th>\n",
       "      <th>cogs</th>\n",
       "      <th>gross_margin</th>\n",
       "      <th>gross_income</th>\n",
       "      <th>rating</th>\n",
       "      <th>rating2</th>\n",
       "      <th>branch_city</th>\n",
       "      <th>hour</th>\n",
       "      <th>minute</th>\n",
       "      <th>day</th>\n",
       "      <th>month</th>\n",
       "    </tr>\n",
       "  </thead>\n",
       "  <tbody>\n",
       "    <tr>\n",
       "      <th>0</th>\n",
       "      <td>750-67-8428</td>\n",
       "      <td>Member</td>\n",
       "      <td>Female</td>\n",
       "      <td>Health and beauty</td>\n",
       "      <td>74.69</td>\n",
       "      <td>7</td>\n",
       "      <td>26.1415</td>\n",
       "      <td>548.9715</td>\n",
       "      <td>2019-01-05</td>\n",
       "      <td>13:08</td>\n",
       "      <td>...</td>\n",
       "      <td>522.83</td>\n",
       "      <td>4.761905</td>\n",
       "      <td>26.1415</td>\n",
       "      <td>9.1</td>\n",
       "      <td>Very Good</td>\n",
       "      <td>Yangon/A</td>\n",
       "      <td>13.0</td>\n",
       "      <td>8.0</td>\n",
       "      <td>5</td>\n",
       "      <td>1</td>\n",
       "    </tr>\n",
       "    <tr>\n",
       "      <th>1</th>\n",
       "      <td>226-31-3081</td>\n",
       "      <td>Normal</td>\n",
       "      <td>Female</td>\n",
       "      <td>Electronic accessories</td>\n",
       "      <td>15.28</td>\n",
       "      <td>5</td>\n",
       "      <td>3.8200</td>\n",
       "      <td>80.2200</td>\n",
       "      <td>2019-03-08</td>\n",
       "      <td>10:29</td>\n",
       "      <td>...</td>\n",
       "      <td>76.40</td>\n",
       "      <td>4.761905</td>\n",
       "      <td>3.8200</td>\n",
       "      <td>9.6</td>\n",
       "      <td>Very Good</td>\n",
       "      <td>Naypyitaw/C</td>\n",
       "      <td>10.0</td>\n",
       "      <td>29.0</td>\n",
       "      <td>8</td>\n",
       "      <td>3</td>\n",
       "    </tr>\n",
       "    <tr>\n",
       "      <th>2</th>\n",
       "      <td>631-41-3108</td>\n",
       "      <td>Normal</td>\n",
       "      <td>Male</td>\n",
       "      <td>Home and lifestyle</td>\n",
       "      <td>46.33</td>\n",
       "      <td>7</td>\n",
       "      <td>16.2155</td>\n",
       "      <td>340.5255</td>\n",
       "      <td>2019-03-03</td>\n",
       "      <td>13:23</td>\n",
       "      <td>...</td>\n",
       "      <td>324.31</td>\n",
       "      <td>4.761905</td>\n",
       "      <td>16.2155</td>\n",
       "      <td>7.4</td>\n",
       "      <td>Good</td>\n",
       "      <td>Yangon/A</td>\n",
       "      <td>13.0</td>\n",
       "      <td>23.0</td>\n",
       "      <td>3</td>\n",
       "      <td>3</td>\n",
       "    </tr>\n",
       "    <tr>\n",
       "      <th>3</th>\n",
       "      <td>123-19-1176</td>\n",
       "      <td>Member</td>\n",
       "      <td>Male</td>\n",
       "      <td>Health and beauty</td>\n",
       "      <td>58.22</td>\n",
       "      <td>8</td>\n",
       "      <td>23.2880</td>\n",
       "      <td>489.0480</td>\n",
       "      <td>2019-01-27</td>\n",
       "      <td>20:33</td>\n",
       "      <td>...</td>\n",
       "      <td>465.76</td>\n",
       "      <td>4.761905</td>\n",
       "      <td>23.2880</td>\n",
       "      <td>8.4</td>\n",
       "      <td>Very Good</td>\n",
       "      <td>Yangon/A</td>\n",
       "      <td>20.0</td>\n",
       "      <td>33.0</td>\n",
       "      <td>27</td>\n",
       "      <td>1</td>\n",
       "    </tr>\n",
       "    <tr>\n",
       "      <th>4</th>\n",
       "      <td>373-73-7910</td>\n",
       "      <td>Normal</td>\n",
       "      <td>Male</td>\n",
       "      <td>Sports and travel</td>\n",
       "      <td>86.31</td>\n",
       "      <td>7</td>\n",
       "      <td>30.2085</td>\n",
       "      <td>634.3785</td>\n",
       "      <td>2019-02-08</td>\n",
       "      <td>10:37</td>\n",
       "      <td>...</td>\n",
       "      <td>604.17</td>\n",
       "      <td>4.761905</td>\n",
       "      <td>30.2085</td>\n",
       "      <td>5.3</td>\n",
       "      <td>Not Good</td>\n",
       "      <td>Yangon/A</td>\n",
       "      <td>10.0</td>\n",
       "      <td>37.0</td>\n",
       "      <td>8</td>\n",
       "      <td>2</td>\n",
       "    </tr>\n",
       "  </tbody>\n",
       "</table>\n",
       "<p>5 rows × 21 columns</p>\n",
       "</div>"
      ],
      "text/plain": [
       "    invoice_id cust_type  gender                products  unit_price  qty  \\\n",
       "0  750-67-8428    Member  Female       Health and beauty       74.69    7   \n",
       "1  226-31-3081    Normal  Female  Electronic accessories       15.28    5   \n",
       "2  631-41-3108    Normal    Male      Home and lifestyle       46.33    7   \n",
       "3  123-19-1176    Member    Male       Health and beauty       58.22    8   \n",
       "4  373-73-7910    Normal    Male       Sports and travel       86.31    7   \n",
       "\n",
       "     tax5%     total       Date   Time  ...    cogs  gross_margin  \\\n",
       "0  26.1415  548.9715 2019-01-05  13:08  ...  522.83      4.761905   \n",
       "1   3.8200   80.2200 2019-03-08  10:29  ...   76.40      4.761905   \n",
       "2  16.2155  340.5255 2019-03-03  13:23  ...  324.31      4.761905   \n",
       "3  23.2880  489.0480 2019-01-27  20:33  ...  465.76      4.761905   \n",
       "4  30.2085  634.3785 2019-02-08  10:37  ...  604.17      4.761905   \n",
       "\n",
       "   gross_income  rating    rating2  branch_city  hour  minute  day  month  \n",
       "0       26.1415     9.1  Very Good     Yangon/A  13.0     8.0    5      1  \n",
       "1        3.8200     9.6  Very Good  Naypyitaw/C  10.0    29.0    8      3  \n",
       "2       16.2155     7.4       Good     Yangon/A  13.0    23.0    3      3  \n",
       "3       23.2880     8.4  Very Good     Yangon/A  20.0    33.0   27      1  \n",
       "4       30.2085     5.3   Not Good     Yangon/A  10.0    37.0    8      2  \n",
       "\n",
       "[5 rows x 21 columns]"
      ]
     },
     "execution_count": 89,
     "metadata": {},
     "output_type": "execute_result"
    }
   ],
   "source": [
    "df.head(5)"
   ]
  },
  {
   "cell_type": "code",
   "execution_count": 90,
   "metadata": {},
   "outputs": [
    {
     "data": {
      "text/plain": [
       "3"
      ]
     },
     "execution_count": 90,
     "metadata": {},
     "output_type": "execute_result"
    }
   ],
   "source": [
    "df['month'].max()"
   ]
  },
  {
   "cell_type": "code",
   "execution_count": 91,
   "metadata": {},
   "outputs": [
    {
     "data": {
      "text/plain": [
       "['Yangon/A', 'Naypyitaw/C', 'Mandalay/B']"
      ]
     },
     "execution_count": 91,
     "metadata": {},
     "output_type": "execute_result"
    }
   ],
   "source": [
    "df.branch_city.unique().tolist()"
   ]
  },
  {
   "cell_type": "code",
   "execution_count": 92,
   "metadata": {},
   "outputs": [
    {
     "data": {
      "text/plain": [
       "['Health and beauty',\n",
       " 'Electronic accessories',\n",
       " 'Home and lifestyle',\n",
       " 'Sports and travel',\n",
       " 'Food and beverages',\n",
       " 'Fashion accessories']"
      ]
     },
     "execution_count": 92,
     "metadata": {},
     "output_type": "execute_result"
    }
   ],
   "source": [
    "df.products.unique().tolist()"
   ]
  },
  {
   "cell_type": "code",
   "execution_count": 93,
   "metadata": {},
   "outputs": [
    {
     "data": {
      "text/plain": [
       "['Ewallet', 'Cash', 'Credit card']"
      ]
     },
     "execution_count": 93,
     "metadata": {},
     "output_type": "execute_result"
    }
   ],
   "source": [
    "df.payment.unique().tolist()"
   ]
  },
  {
   "cell_type": "code",
   "execution_count": 94,
   "metadata": {},
   "outputs": [
    {
     "data": {
      "text/plain": [
       "['Member', 'Normal']"
      ]
     },
     "execution_count": 94,
     "metadata": {},
     "output_type": "execute_result"
    }
   ],
   "source": [
    "df.cust_type.unique().tolist()"
   ]
  },
  {
   "cell_type": "code",
   "execution_count": 95,
   "metadata": {},
   "outputs": [
    {
     "data": {
      "text/plain": [
       "(10.0, 4.0)"
      ]
     },
     "execution_count": 95,
     "metadata": {},
     "output_type": "execute_result"
    }
   ],
   "source": [
    "df.rating.max(), df.rating.min()"
   ]
  },
  {
   "cell_type": "code",
   "execution_count": 96,
   "metadata": {},
   "outputs": [
    {
     "data": {
      "text/plain": [
       "payment      gender\n",
       "Cash         Female    178\n",
       "             Male      166\n",
       "Credit card  Female    163\n",
       "             Male      148\n",
       "Ewallet      Female    160\n",
       "             Male      185\n",
       "dtype: int64"
      ]
     },
     "execution_count": 96,
     "metadata": {},
     "output_type": "execute_result"
    }
   ],
   "source": [
    "df.groupby(['payment', 'gender']).size()"
   ]
  },
  {
   "cell_type": "code",
   "execution_count": 97,
   "metadata": {},
   "outputs": [],
   "source": [
    "type_by_gender = df.groupby(['cust_type', 'gender']).size().unstack()\n",
    "type_by_gender = pd.DataFrame(type_by_gender).reset_index()"
   ]
  },
  {
   "cell_type": "code",
   "execution_count": 98,
   "metadata": {},
   "outputs": [
    {
     "data": {
      "text/html": [
       "<div>\n",
       "<style scoped>\n",
       "    .dataframe tbody tr th:only-of-type {\n",
       "        vertical-align: middle;\n",
       "    }\n",
       "\n",
       "    .dataframe tbody tr th {\n",
       "        vertical-align: top;\n",
       "    }\n",
       "\n",
       "    .dataframe thead th {\n",
       "        text-align: right;\n",
       "    }\n",
       "</style>\n",
       "<table border=\"1\" class=\"dataframe\">\n",
       "  <thead>\n",
       "    <tr style=\"text-align: right;\">\n",
       "      <th>gender</th>\n",
       "      <th>cust_type</th>\n",
       "      <th>Female</th>\n",
       "      <th>Male</th>\n",
       "    </tr>\n",
       "  </thead>\n",
       "  <tbody>\n",
       "    <tr>\n",
       "      <th>0</th>\n",
       "      <td>Member</td>\n",
       "      <td>261</td>\n",
       "      <td>240</td>\n",
       "    </tr>\n",
       "    <tr>\n",
       "      <th>1</th>\n",
       "      <td>Normal</td>\n",
       "      <td>240</td>\n",
       "      <td>259</td>\n",
       "    </tr>\n",
       "  </tbody>\n",
       "</table>\n",
       "</div>"
      ],
      "text/plain": [
       "gender cust_type  Female  Male\n",
       "0         Member     261   240\n",
       "1         Normal     240   259"
      ]
     },
     "execution_count": 98,
     "metadata": {},
     "output_type": "execute_result"
    }
   ],
   "source": [
    "type_by_gender"
   ]
  },
  {
   "cell_type": "code",
   "execution_count": 99,
   "metadata": {},
   "outputs": [
    {
     "data": {
      "image/png": "[encoded data removed]",
      "text/plain": [
       "<Figure size 720x432 with 1 Axes>"
      ]
     },
     "metadata": {},
     "output_type": "display_data"
    }
   ],
   "source": [
    "with plt.style.context('ggplot'):\n",
    "    plt.figure(figsize=(10,6))\n",
    "    ind = np.array([0.5,1.2])\n",
    "    w = 0.2\n",
    "    plt.bar(ind, type_by_gender.Male, w, label='Male', color='#6495ED')\n",
    "    plt.bar(ind+w, type_by_gender.Female, w, label='Female', color='#EEA2AD')\n",
    "    plt.xlabel('Type')\n",
    "    plt.ylabel('Customer Counts')\n",
    "    plt.title('Customer Count by Type')\n",
    "    plt.xticks(ind + w / 2, type_by_gender.cust_type)\n",
    "    plt.xlim(0.2, 1.8)\n",
    "    plt.legend(loc='best')\n",
    "    plt.show()"
   ]
  },
  {
   "cell_type": "code",
   "execution_count": 100,
   "metadata": {},
   "outputs": [
    {
     "data": {
      "image/png": "[encoded data removed]",
      "text/plain": [
       "<Figure size 504x504 with 1 Axes>"
      ]
     },
     "metadata": {},
     "output_type": "display_data"
    }
   ],
   "source": [
    "with plt.style.context('ggplot'):\n",
    "    sns.set_theme()\n",
    "    df.products.value_counts().plot(kind='pie', labels=df.products, autopct='%1.1f%%', figsize=(7,7), ylabel='')"
   ]
  },
  {
   "cell_type": "code",
   "execution_count": 101,
   "metadata": {},
   "outputs": [],
   "source": [
    "product_by_gender = df.groupby(['products', 'gender']).size().unstack()\n",
    "product_by_gender = pd.DataFrame(product_by_gender).reset_index()"
   ]
  },
  {
   "cell_type": "code",
   "execution_count": 102,
   "metadata": {},
   "outputs": [
    {
     "data": {
      "text/html": [
       "<div>\n",
       "<style scoped>\n",
       "    .dataframe tbody tr th:only-of-type {\n",
       "        vertical-align: middle;\n",
       "    }\n",
       "\n",
       "    .dataframe tbody tr th {\n",
       "        vertical-align: top;\n",
       "    }\n",
       "\n",
       "    .dataframe thead th {\n",
       "        text-align: right;\n",
       "    }\n",
       "</style>\n",
       "<table border=\"1\" class=\"dataframe\">\n",
       "  <thead>\n",
       "    <tr style=\"text-align: right;\">\n",
       "      <th>gender</th>\n",
       "      <th>products</th>\n",
       "      <th>Female</th>\n",
       "      <th>Male</th>\n",
       "    </tr>\n",
       "  </thead>\n",
       "  <tbody>\n",
       "    <tr>\n",
       "      <th>0</th>\n",
       "      <td>Electronic accessories</td>\n",
       "      <td>84</td>\n",
       "      <td>86</td>\n",
       "    </tr>\n",
       "    <tr>\n",
       "      <th>1</th>\n",
       "      <td>Fashion accessories</td>\n",
       "      <td>96</td>\n",
       "      <td>82</td>\n",
       "    </tr>\n",
       "    <tr>\n",
       "      <th>2</th>\n",
       "      <td>Food and beverages</td>\n",
       "      <td>90</td>\n",
       "      <td>84</td>\n",
       "    </tr>\n",
       "    <tr>\n",
       "      <th>3</th>\n",
       "      <td>Health and beauty</td>\n",
       "      <td>64</td>\n",
       "      <td>88</td>\n",
       "    </tr>\n",
       "    <tr>\n",
       "      <th>4</th>\n",
       "      <td>Home and lifestyle</td>\n",
       "      <td>79</td>\n",
       "      <td>81</td>\n",
       "    </tr>\n",
       "    <tr>\n",
       "      <th>5</th>\n",
       "      <td>Sports and travel</td>\n",
       "      <td>88</td>\n",
       "      <td>78</td>\n",
       "    </tr>\n",
       "  </tbody>\n",
       "</table>\n",
       "</div>"
      ],
      "text/plain": [
       "gender                products  Female  Male\n",
       "0       Electronic accessories      84    86\n",
       "1          Fashion accessories      96    82\n",
       "2           Food and beverages      90    84\n",
       "3            Health and beauty      64    88\n",
       "4           Home and lifestyle      79    81\n",
       "5            Sports and travel      88    78"
      ]
     },
     "execution_count": 102,
     "metadata": {},
     "output_type": "execute_result"
    }
   ],
   "source": [
    "product_by_gender"
   ]
  },
  {
   "cell_type": "code",
   "execution_count": 103,
   "metadata": {},
   "outputs": [
    {
     "data": {
      "image/png": "[encoded data removed]",
      "text/plain": [
       "<Figure size 936x432 with 1 Axes>"
      ]
     },
     "metadata": {},
     "output_type": "display_data"
    }
   ],
   "source": [
    "with plt.style.context('ggplot'):\n",
    "    plt.figure(figsize=(13,6))\n",
    "    ind = np.arange(6)\n",
    "    w = 0.3\n",
    "    plt.bar(ind, product_by_gender.Male, w, label='Male', color='#6495ED')\n",
    "    plt.bar(ind+w, product_by_gender.Female, w, label='Female', color='#EEA2AD')\n",
    "    plt.xlabel('Products')\n",
    "    plt.ylabel('Customer Counts')\n",
    "    plt.title('Gender and Products')\n",
    "    plt.xticks(ind + w / 2, product_by_gender.products)\n",
    "    plt.ylim(0, 110)\n",
    "    plt.legend(loc='best')\n",
    "    plt.show()"
   ]
  },
  {
   "cell_type": "code",
   "execution_count": 104,
   "metadata": {},
   "outputs": [],
   "source": [
    "sale_by_hour = df.groupby(['hour', 'minute']).size().reset_index(name='counts')"
   ]
  },
  {
   "cell_type": "code",
   "execution_count": 105,
   "metadata": {},
   "outputs": [
    {
     "data": {
      "text/html": [
       "<div>\n",
       "<style scoped>\n",
       "    .dataframe tbody tr th:only-of-type {\n",
       "        vertical-align: middle;\n",
       "    }\n",
       "\n",
       "    .dataframe tbody tr th {\n",
       "        vertical-align: top;\n",
       "    }\n",
       "\n",
       "    .dataframe thead th {\n",
       "        text-align: right;\n",
       "    }\n",
       "</style>\n",
       "<table border=\"1\" class=\"dataframe\">\n",
       "  <thead>\n",
       "    <tr style=\"text-align: right;\">\n",
       "      <th></th>\n",
       "      <th>hour</th>\n",
       "      <th>minute</th>\n",
       "      <th>counts</th>\n",
       "    </tr>\n",
       "  </thead>\n",
       "  <tbody>\n",
       "    <tr>\n",
       "      <th>0</th>\n",
       "      <td>10.0</td>\n",
       "      <td>0.0</td>\n",
       "      <td>3</td>\n",
       "    </tr>\n",
       "    <tr>\n",
       "      <th>1</th>\n",
       "      <td>10.0</td>\n",
       "      <td>1.0</td>\n",
       "      <td>2</td>\n",
       "    </tr>\n",
       "    <tr>\n",
       "      <th>2</th>\n",
       "      <td>10.0</td>\n",
       "      <td>2.0</td>\n",
       "      <td>3</td>\n",
       "    </tr>\n",
       "    <tr>\n",
       "      <th>3</th>\n",
       "      <td>10.0</td>\n",
       "      <td>3.0</td>\n",
       "      <td>1</td>\n",
       "    </tr>\n",
       "    <tr>\n",
       "      <th>4</th>\n",
       "      <td>10.0</td>\n",
       "      <td>4.0</td>\n",
       "      <td>1</td>\n",
       "    </tr>\n",
       "  </tbody>\n",
       "</table>\n",
       "</div>"
      ],
      "text/plain": [
       "   hour  minute  counts\n",
       "0  10.0     0.0       3\n",
       "1  10.0     1.0       2\n",
       "2  10.0     2.0       3\n",
       "3  10.0     3.0       1\n",
       "4  10.0     4.0       1"
      ]
     },
     "execution_count": 105,
     "metadata": {},
     "output_type": "execute_result"
    }
   ],
   "source": [
    "sale_by_hour.head()"
   ]
  },
  {
   "cell_type": "code",
   "execution_count": 106,
   "metadata": {},
   "outputs": [
    {
     "name": "stderr",
     "output_type": "stream",
     "text": [
      "C:\\Users\\Owner\\AppData\\Local\\Programs\\Python\\Python38\\lib\\site-packages\\seaborn\\_decorators.py:36: FutureWarning: Pass the following variables as keyword args: x, y. From version 0.12, the only valid positional argument will be `data`, and passing other arguments without an explicit keyword will result in an error or misinterpretation.\n",
      "  warnings.warn(\n"
     ]
    },
    {
     "data": {
      "image/png": "[encoded data removed]",
      "text/plain": [
       "<Figure size 648x432 with 1 Axes>"
      ]
     },
     "metadata": {},
     "output_type": "display_data"
    }
   ],
   "source": [
    "with plt.style.context('ggplot'):\n",
    "    plt.figure(figsize=(9,6))\n",
    "    sns.barplot('hour', 'counts',  data = sale_by_hour)\n",
    "    plt.title('Customer Count by Number') \n",
    "    plt.ylabel('Customer Counts')\n",
    "    plt.xlabel('Hour')"
   ]
  },
  {
   "cell_type": "code",
   "execution_count": 107,
   "metadata": {},
   "outputs": [
    {
     "data": {
      "text/html": [
       "<div>\n",
       "<style scoped>\n",
       "    .dataframe tbody tr th:only-of-type {\n",
       "        vertical-align: middle;\n",
       "    }\n",
       "\n",
       "    .dataframe tbody tr th {\n",
       "        vertical-align: top;\n",
       "    }\n",
       "\n",
       "    .dataframe thead th {\n",
       "        text-align: right;\n",
       "    }\n",
       "</style>\n",
       "<table border=\"1\" class=\"dataframe\">\n",
       "  <thead>\n",
       "    <tr style=\"text-align: right;\">\n",
       "      <th></th>\n",
       "      <th>invoice_id</th>\n",
       "      <th>cust_type</th>\n",
       "      <th>gender</th>\n",
       "      <th>products</th>\n",
       "      <th>unit_price</th>\n",
       "      <th>qty</th>\n",
       "      <th>tax5%</th>\n",
       "      <th>total</th>\n",
       "      <th>Date</th>\n",
       "      <th>Time</th>\n",
       "      <th>...</th>\n",
       "      <th>cogs</th>\n",
       "      <th>gross_margin</th>\n",
       "      <th>gross_income</th>\n",
       "      <th>rating</th>\n",
       "      <th>rating2</th>\n",
       "      <th>branch_city</th>\n",
       "      <th>hour</th>\n",
       "      <th>minute</th>\n",
       "      <th>day</th>\n",
       "      <th>month</th>\n",
       "    </tr>\n",
       "  </thead>\n",
       "  <tbody>\n",
       "    <tr>\n",
       "      <th>0</th>\n",
       "      <td>750-67-8428</td>\n",
       "      <td>Member</td>\n",
       "      <td>Female</td>\n",
       "      <td>Health and beauty</td>\n",
       "      <td>74.69</td>\n",
       "      <td>7</td>\n",
       "      <td>26.1415</td>\n",
       "      <td>548.9715</td>\n",
       "      <td>2019-01-05</td>\n",
       "      <td>13:08</td>\n",
       "      <td>...</td>\n",
       "      <td>522.83</td>\n",
       "      <td>4.761905</td>\n",
       "      <td>26.1415</td>\n",
       "      <td>9.1</td>\n",
       "      <td>Very Good</td>\n",
       "      <td>Yangon/A</td>\n",
       "      <td>13.0</td>\n",
       "      <td>8.0</td>\n",
       "      <td>5</td>\n",
       "      <td>1</td>\n",
       "    </tr>\n",
       "    <tr>\n",
       "      <th>1</th>\n",
       "      <td>226-31-3081</td>\n",
       "      <td>Normal</td>\n",
       "      <td>Female</td>\n",
       "      <td>Electronic accessories</td>\n",
       "      <td>15.28</td>\n",
       "      <td>5</td>\n",
       "      <td>3.8200</td>\n",
       "      <td>80.2200</td>\n",
       "      <td>2019-03-08</td>\n",
       "      <td>10:29</td>\n",
       "      <td>...</td>\n",
       "      <td>76.40</td>\n",
       "      <td>4.761905</td>\n",
       "      <td>3.8200</td>\n",
       "      <td>9.6</td>\n",
       "      <td>Very Good</td>\n",
       "      <td>Naypyitaw/C</td>\n",
       "      <td>10.0</td>\n",
       "      <td>29.0</td>\n",
       "      <td>8</td>\n",
       "      <td>3</td>\n",
       "    </tr>\n",
       "    <tr>\n",
       "      <th>2</th>\n",
       "      <td>631-41-3108</td>\n",
       "      <td>Normal</td>\n",
       "      <td>Male</td>\n",
       "      <td>Home and lifestyle</td>\n",
       "      <td>46.33</td>\n",
       "      <td>7</td>\n",
       "      <td>16.2155</td>\n",
       "      <td>340.5255</td>\n",
       "      <td>2019-03-03</td>\n",
       "      <td>13:23</td>\n",
       "      <td>...</td>\n",
       "      <td>324.31</td>\n",
       "      <td>4.761905</td>\n",
       "      <td>16.2155</td>\n",
       "      <td>7.4</td>\n",
       "      <td>Good</td>\n",
       "      <td>Yangon/A</td>\n",
       "      <td>13.0</td>\n",
       "      <td>23.0</td>\n",
       "      <td>3</td>\n",
       "      <td>3</td>\n",
       "    </tr>\n",
       "    <tr>\n",
       "      <th>3</th>\n",
       "      <td>123-19-1176</td>\n",
       "      <td>Member</td>\n",
       "      <td>Male</td>\n",
       "      <td>Health and beauty</td>\n",
       "      <td>58.22</td>\n",
       "      <td>8</td>\n",
       "      <td>23.2880</td>\n",
       "      <td>489.0480</td>\n",
       "      <td>2019-01-27</td>\n",
       "      <td>20:33</td>\n",
       "      <td>...</td>\n",
       "      <td>465.76</td>\n",
       "      <td>4.761905</td>\n",
       "      <td>23.2880</td>\n",
       "      <td>8.4</td>\n",
       "      <td>Very Good</td>\n",
       "      <td>Yangon/A</td>\n",
       "      <td>20.0</td>\n",
       "      <td>33.0</td>\n",
       "      <td>27</td>\n",
       "      <td>1</td>\n",
       "    </tr>\n",
       "    <tr>\n",
       "      <th>4</th>\n",
       "      <td>373-73-7910</td>\n",
       "      <td>Normal</td>\n",
       "      <td>Male</td>\n",
       "      <td>Sports and travel</td>\n",
       "      <td>86.31</td>\n",
       "      <td>7</td>\n",
       "      <td>30.2085</td>\n",
       "      <td>634.3785</td>\n",
       "      <td>2019-02-08</td>\n",
       "      <td>10:37</td>\n",
       "      <td>...</td>\n",
       "      <td>604.17</td>\n",
       "      <td>4.761905</td>\n",
       "      <td>30.2085</td>\n",
       "      <td>5.3</td>\n",
       "      <td>Not Good</td>\n",
       "      <td>Yangon/A</td>\n",
       "      <td>10.0</td>\n",
       "      <td>37.0</td>\n",
       "      <td>8</td>\n",
       "      <td>2</td>\n",
       "    </tr>\n",
       "  </tbody>\n",
       "</table>\n",
       "<p>5 rows × 21 columns</p>\n",
       "</div>"
      ],
      "text/plain": [
       "    invoice_id cust_type  gender                products  unit_price  qty  \\\n",
       "0  750-67-8428    Member  Female       Health and beauty       74.69    7   \n",
       "1  226-31-3081    Normal  Female  Electronic accessories       15.28    5   \n",
       "2  631-41-3108    Normal    Male      Home and lifestyle       46.33    7   \n",
       "3  123-19-1176    Member    Male       Health and beauty       58.22    8   \n",
       "4  373-73-7910    Normal    Male       Sports and travel       86.31    7   \n",
       "\n",
       "     tax5%     total       Date   Time  ...    cogs  gross_margin  \\\n",
       "0  26.1415  548.9715 2019-01-05  13:08  ...  522.83      4.761905   \n",
       "1   3.8200   80.2200 2019-03-08  10:29  ...   76.40      4.761905   \n",
       "2  16.2155  340.5255 2019-03-03  13:23  ...  324.31      4.761905   \n",
       "3  23.2880  489.0480 2019-01-27  20:33  ...  465.76      4.761905   \n",
       "4  30.2085  634.3785 2019-02-08  10:37  ...  604.17      4.761905   \n",
       "\n",
       "   gross_income  rating    rating2  branch_city  hour  minute  day  month  \n",
       "0       26.1415     9.1  Very Good     Yangon/A  13.0     8.0    5      1  \n",
       "1        3.8200     9.6  Very Good  Naypyitaw/C  10.0    29.0    8      3  \n",
       "2       16.2155     7.4       Good     Yangon/A  13.0    23.0    3      3  \n",
       "3       23.2880     8.4  Very Good     Yangon/A  20.0    33.0   27      1  \n",
       "4       30.2085     5.3   Not Good     Yangon/A  10.0    37.0    8      2  \n",
       "\n",
       "[5 rows x 21 columns]"
      ]
     },
     "execution_count": 107,
     "metadata": {},
     "output_type": "execute_result"
    }
   ],
   "source": [
    "df.head()"
   ]
  },
  {
   "cell_type": "code",
   "execution_count": 108,
   "metadata": {},
   "outputs": [],
   "source": [
    "rating_by_branch = df.groupby(['branch_city', 'rating2']).size().unstack()\n",
    "rating_by_branch = pd.DataFrame(rating_by_branch).reset_index()"
   ]
  },
  {
   "cell_type": "code",
   "execution_count": 109,
   "metadata": {},
   "outputs": [
    {
     "data": {
      "text/html": [
       "<div>\n",
       "<style scoped>\n",
       "    .dataframe tbody tr th:only-of-type {\n",
       "        vertical-align: middle;\n",
       "    }\n",
       "\n",
       "    .dataframe tbody tr th {\n",
       "        vertical-align: top;\n",
       "    }\n",
       "\n",
       "    .dataframe thead th {\n",
       "        text-align: right;\n",
       "    }\n",
       "</style>\n",
       "<table border=\"1\" class=\"dataframe\">\n",
       "  <thead>\n",
       "    <tr style=\"text-align: right;\">\n",
       "      <th>rating2</th>\n",
       "      <th>branch_city</th>\n",
       "      <th>Bad</th>\n",
       "      <th>Good</th>\n",
       "      <th>Not Good</th>\n",
       "      <th>Very Good</th>\n",
       "    </tr>\n",
       "  </thead>\n",
       "  <tbody>\n",
       "    <tr>\n",
       "      <th>0</th>\n",
       "      <td>Mandalay/B</td>\n",
       "      <td>5</td>\n",
       "      <td>123</td>\n",
       "      <td>115</td>\n",
       "      <td>89</td>\n",
       "    </tr>\n",
       "    <tr>\n",
       "      <th>1</th>\n",
       "      <td>Naypyitaw/C</td>\n",
       "      <td>4</td>\n",
       "      <td>108</td>\n",
       "      <td>103</td>\n",
       "      <td>113</td>\n",
       "    </tr>\n",
       "    <tr>\n",
       "      <th>2</th>\n",
       "      <td>Yangon/A</td>\n",
       "      <td>2</td>\n",
       "      <td>120</td>\n",
       "      <td>112</td>\n",
       "      <td>106</td>\n",
       "    </tr>\n",
       "  </tbody>\n",
       "</table>\n",
       "</div>"
      ],
      "text/plain": [
       "rating2  branch_city  Bad  Good  Not Good  Very Good\n",
       "0         Mandalay/B    5   123       115         89\n",
       "1        Naypyitaw/C    4   108       103        113\n",
       "2           Yangon/A    2   120       112        106"
      ]
     },
     "execution_count": 109,
     "metadata": {},
     "output_type": "execute_result"
    }
   ],
   "source": [
    "rating_by_branch"
   ]
  },
  {
   "cell_type": "code",
   "execution_count": 111,
   "metadata": {},
   "outputs": [
    {
     "data": {
      "image/png": "[encoded data removed]",
      "text/plain": [
       "<Figure size 936x432 with 1 Axes>"
      ]
     },
     "metadata": {},
     "output_type": "display_data"
    }
   ],
   "source": [
    "with plt.style.context('ggplot'):\n",
    "    plt.figure(figsize=(13,6))\n",
    "    ind = np.arange(3)\n",
    "    w = 0.15\n",
    "    plt.bar(ind, rating_by_branch['Very Good'], w, label='Very Good', color='#698B22')\n",
    "    plt.bar(ind+w, rating_by_branch['Good'], w, label='Good', color='#9ACD32')\n",
    "    plt.bar(ind+2*w, rating_by_branch['Not Good'], w, label='Not Good', color='#FFB90F')\n",
    "    plt.bar(ind+3*w, rating_by_branch['Bad'], w, label='Bad', color='#FF8000')\n",
    "    plt.xlabel('City/Branch')\n",
    "    plt.ylabel('Counts')\n",
    "    plt.title('Rating by City/Branch')\n",
    "    plt.xticks(ind + 3*w / 2, rating_by_branch.branch_city)\n",
    "    plt.ylim(0, 150)\n",
    "    plt.legend(loc='best')\n",
    "    plt.show()"
   ]
  },
  {
   "cell_type": "code",
   "execution_count": 112,
   "metadata": {},
   "outputs": [
    {
     "data": {
      "text/plain": [
       "branch_city\n",
       "Mandalay/B     6.818072\n",
       "Naypyitaw/C    7.072866\n",
       "Yangon/A       7.027059\n",
       "Name: rating, dtype: float64"
      ]
     },
     "execution_count": 112,
     "metadata": {},
     "output_type": "execute_result"
    }
   ],
   "source": [
    "df.groupby('branch_city')['rating'].mean()"
   ]
  },
  {
   "cell_type": "code",
   "execution_count": 113,
   "metadata": {},
   "outputs": [],
   "source": [
    "mandalay_rating = df[df['branch_city']=='Mandalay/B']['rating'].reset_index().drop(columns='index')\n",
    "naypitaw_rating = df[df['branch_city']=='Naypyitaw/C']['rating'].reset_index().drop(columns='index')\n",
    "yangon_rating = df[df['branch_city']=='Yangon/A']['rating'].reset_index().drop(columns='index')"
   ]
  },
  {
   "cell_type": "code",
   "execution_count": 179,
   "metadata": {},
   "outputs": [
    {
     "data": {
      "text/plain": [
       "6.818072289156625"
      ]
     },
     "execution_count": 179,
     "metadata": {},
     "output_type": "execute_result"
    }
   ],
   "source": [
    "mandalay_rating.mean()[0]"
   ]
  },
  {
   "cell_type": "code",
   "execution_count": null,
   "metadata": {},
   "outputs": [
    {
     "name": "stderr",
     "output_type": "stream",
     "text": [
      "C:\\Users\\Owner\\AppData\\Local\\Programs\\Python\\Python38\\lib\\site-packages\\seaborn\\distributions.py:2619: FutureWarning: `distplot` is a deprecated function and will be removed in a future version. Please adapt your code to use either `displot` (a figure-level function with similar flexibility) or `histplot` (an axes-level function for histograms).\n",
      "  warnings.warn(msg, FutureWarning)\n"
     ]
    },
    {
     "data": {
      "text/plain": [
       "<matplotlib.axes._subplots.AxesSubplot at 0x9f551efd60>"
      ]
     },
     "execution_count": 35,
     "metadata": {},
     "output_type": "execute_result"
    },
    {
     "data": {
      "image/png": "[encoded data removed]",
      "text/plain": [
       "<Figure size 432x288 with 1 Axes>"
      ]
     },
     "metadata": {
      "needs_background": "light"
     },
     "output_type": "display_data"
    }
   ],
   "source": [
    "sns.distplot(mandalay_rating, kde=False)"
   ]
  },
  {
   "cell_type": "code",
   "execution_count": null,
   "metadata": {},
   "outputs": [
    {
     "name": "stderr",
     "output_type": "stream",
     "text": [
      "C:\\Users\\Owner\\AppData\\Local\\Programs\\Python\\Python38\\lib\\site-packages\\seaborn\\distributions.py:2619: FutureWarning: `distplot` is a deprecated function and will be removed in a future version. Please adapt your code to use either `displot` (a figure-level function with similar flexibility) or `histplot` (an axes-level function for histograms).\n",
      "  warnings.warn(msg, FutureWarning)\n"
     ]
    },
    {
     "data": {
      "text/plain": [
       "<matplotlib.axes._subplots.AxesSubplot at 0x9f5533afa0>"
      ]
     },
     "execution_count": 36,
     "metadata": {},
     "output_type": "execute_result"
    },
    {
     "data": {
      "image/png": "[encoded data removed]",
      "text/plain": [
       "<Figure size 432x288 with 1 Axes>"
      ]
     },
     "metadata": {
      "needs_background": "light"
     },
     "output_type": "display_data"
    }
   ],
   "source": [
    "mandalay_rating_pop = np.random.normal(mandalay_rating.mean(), mandalay_rating.std(), 20000)\n",
    "sns.distplot(mandalay_rating_pop, label='Daily Income (Population)', color='blue')"
   ]
  },
  {
   "cell_type": "code",
   "execution_count": null,
   "metadata": {},
   "outputs": [
    {
     "data": {
      "text/plain": [
       "6.816496605434528"
      ]
     },
     "execution_count": 37,
     "metadata": {},
     "output_type": "execute_result"
    }
   ],
   "source": [
    "mandalay_rating_pop.mean()"
   ]
  },
  {
   "cell_type": "code",
   "execution_count": null,
   "metadata": {},
   "outputs": [
    {
     "name": "stderr",
     "output_type": "stream",
     "text": [
      "C:\\Users\\Owner\\AppData\\Local\\Programs\\Python\\Python38\\lib\\site-packages\\seaborn\\distributions.py:2619: FutureWarning: `distplot` is a deprecated function and will be removed in a future version. Please adapt your code to use either `displot` (a figure-level function with similar flexibility) or `histplot` (an axes-level function for histograms).\n",
      "  warnings.warn(msg, FutureWarning)\n"
     ]
    },
    {
     "data": {
      "text/plain": [
       "<matplotlib.axes._subplots.AxesSubplot at 0x9f551f5b50>"
      ]
     },
     "execution_count": 38,
     "metadata": {},
     "output_type": "execute_result"
    },
    {
     "data": {
      "image/png": "[encoded data removed]",
      "text/plain": [
       "<Figure size 432x288 with 1 Axes>"
      ]
     },
     "metadata": {
      "needs_background": "light"
     },
     "output_type": "display_data"
    }
   ],
   "source": [
    "naypitaw_rating_pop = np.random.normal(naypitaw_rating.mean(), naypitaw_rating.std(), 20000)\n",
    "sns.distplot(naypitaw_rating_pop, label='Daily Income (Population)', color='blue')"
   ]
  },
  {
   "cell_type": "code",
   "execution_count": 114,
   "metadata": {},
   "outputs": [
    {
     "data": {
      "text/plain": [
       "7.069476262808367"
      ]
     },
     "execution_count": 114,
     "metadata": {},
     "output_type": "execute_result"
    }
   ],
   "source": [
    "naypitaw_rating_pop.mean()"
   ]
  },
  {
   "cell_type": "code",
   "execution_count": 115,
   "metadata": {},
   "outputs": [],
   "source": [
    "branch_products_count = df.groupby(['branch_city','products'])['qty'].sum()\n",
    "branch_products_count = pd.DataFrame(branch_products_count).reset_index()"
   ]
  },
  {
   "cell_type": "code",
   "execution_count": 166,
   "metadata": {},
   "outputs": [
    {
     "data": {
      "text/html": [
       "<div>\n",
       "<style scoped>\n",
       "    .dataframe tbody tr th:only-of-type {\n",
       "        vertical-align: middle;\n",
       "    }\n",
       "\n",
       "    .dataframe tbody tr th {\n",
       "        vertical-align: top;\n",
       "    }\n",
       "\n",
       "    .dataframe thead th {\n",
       "        text-align: right;\n",
       "    }\n",
       "</style>\n",
       "<table border=\"1\" class=\"dataframe\">\n",
       "  <thead>\n",
       "    <tr style=\"text-align: right;\">\n",
       "      <th></th>\n",
       "      <th>branch_city</th>\n",
       "      <th>products</th>\n",
       "      <th>qty</th>\n",
       "    </tr>\n",
       "  </thead>\n",
       "  <tbody>\n",
       "    <tr>\n",
       "      <th>0</th>\n",
       "      <td>Mandalay/B</td>\n",
       "      <td>Electronic accessories</td>\n",
       "      <td>316</td>\n",
       "    </tr>\n",
       "    <tr>\n",
       "      <th>1</th>\n",
       "      <td>Mandalay/B</td>\n",
       "      <td>Fashion accessories</td>\n",
       "      <td>297</td>\n",
       "    </tr>\n",
       "    <tr>\n",
       "      <th>2</th>\n",
       "      <td>Mandalay/B</td>\n",
       "      <td>Food and beverages</td>\n",
       "      <td>270</td>\n",
       "    </tr>\n",
       "    <tr>\n",
       "      <th>3</th>\n",
       "      <td>Mandalay/B</td>\n",
       "      <td>Health and beauty</td>\n",
       "      <td>320</td>\n",
       "    </tr>\n",
       "    <tr>\n",
       "      <th>4</th>\n",
       "      <td>Mandalay/B</td>\n",
       "      <td>Home and lifestyle</td>\n",
       "      <td>295</td>\n",
       "    </tr>\n",
       "    <tr>\n",
       "      <th>5</th>\n",
       "      <td>Mandalay/B</td>\n",
       "      <td>Sports and travel</td>\n",
       "      <td>322</td>\n",
       "    </tr>\n",
       "    <tr>\n",
       "      <th>6</th>\n",
       "      <td>Naypyitaw/C</td>\n",
       "      <td>Electronic accessories</td>\n",
       "      <td>333</td>\n",
       "    </tr>\n",
       "    <tr>\n",
       "      <th>7</th>\n",
       "      <td>Naypyitaw/C</td>\n",
       "      <td>Fashion accessories</td>\n",
       "      <td>342</td>\n",
       "    </tr>\n",
       "    <tr>\n",
       "      <th>8</th>\n",
       "      <td>Naypyitaw/C</td>\n",
       "      <td>Food and beverages</td>\n",
       "      <td>369</td>\n",
       "    </tr>\n",
       "    <tr>\n",
       "      <th>9</th>\n",
       "      <td>Naypyitaw/C</td>\n",
       "      <td>Health and beauty</td>\n",
       "      <td>277</td>\n",
       "    </tr>\n",
       "    <tr>\n",
       "      <th>10</th>\n",
       "      <td>Naypyitaw/C</td>\n",
       "      <td>Home and lifestyle</td>\n",
       "      <td>245</td>\n",
       "    </tr>\n",
       "    <tr>\n",
       "      <th>11</th>\n",
       "      <td>Naypyitaw/C</td>\n",
       "      <td>Sports and travel</td>\n",
       "      <td>265</td>\n",
       "    </tr>\n",
       "    <tr>\n",
       "      <th>12</th>\n",
       "      <td>Yangon/A</td>\n",
       "      <td>Electronic accessories</td>\n",
       "      <td>322</td>\n",
       "    </tr>\n",
       "    <tr>\n",
       "      <th>13</th>\n",
       "      <td>Yangon/A</td>\n",
       "      <td>Fashion accessories</td>\n",
       "      <td>263</td>\n",
       "    </tr>\n",
       "    <tr>\n",
       "      <th>14</th>\n",
       "      <td>Yangon/A</td>\n",
       "      <td>Food and beverages</td>\n",
       "      <td>313</td>\n",
       "    </tr>\n",
       "    <tr>\n",
       "      <th>15</th>\n",
       "      <td>Yangon/A</td>\n",
       "      <td>Health and beauty</td>\n",
       "      <td>257</td>\n",
       "    </tr>\n",
       "    <tr>\n",
       "      <th>16</th>\n",
       "      <td>Yangon/A</td>\n",
       "      <td>Home and lifestyle</td>\n",
       "      <td>371</td>\n",
       "    </tr>\n",
       "    <tr>\n",
       "      <th>17</th>\n",
       "      <td>Yangon/A</td>\n",
       "      <td>Sports and travel</td>\n",
       "      <td>333</td>\n",
       "    </tr>\n",
       "  </tbody>\n",
       "</table>\n",
       "</div>"
      ],
      "text/plain": [
       "    branch_city                products  qty\n",
       "0    Mandalay/B  Electronic accessories  316\n",
       "1    Mandalay/B     Fashion accessories  297\n",
       "2    Mandalay/B      Food and beverages  270\n",
       "3    Mandalay/B       Health and beauty  320\n",
       "4    Mandalay/B      Home and lifestyle  295\n",
       "5    Mandalay/B       Sports and travel  322\n",
       "6   Naypyitaw/C  Electronic accessories  333\n",
       "7   Naypyitaw/C     Fashion accessories  342\n",
       "8   Naypyitaw/C      Food and beverages  369\n",
       "9   Naypyitaw/C       Health and beauty  277\n",
       "10  Naypyitaw/C      Home and lifestyle  245\n",
       "11  Naypyitaw/C       Sports and travel  265\n",
       "12     Yangon/A  Electronic accessories  322\n",
       "13     Yangon/A     Fashion accessories  263\n",
       "14     Yangon/A      Food and beverages  313\n",
       "15     Yangon/A       Health and beauty  257\n",
       "16     Yangon/A      Home and lifestyle  371\n",
       "17     Yangon/A       Sports and travel  333"
      ]
     },
     "execution_count": 166,
     "metadata": {},
     "output_type": "execute_result"
    }
   ],
   "source": [
    "branch_products_count.head(20)"
   ]
  },
  {
   "cell_type": "code",
   "execution_count": 167,
   "metadata": {},
   "outputs": [
    {
     "data": {
      "text/plain": [
       "0     Electronic accessories\n",
       "6     Electronic accessories\n",
       "12    Electronic accessories\n",
       "Name: products, dtype: object"
      ]
     },
     "execution_count": 167,
     "metadata": {},
     "output_type": "execute_result"
    }
   ],
   "source": [
    "branch_products_count['products'][0:18:6]"
   ]
  },
  {
   "cell_type": "code",
   "execution_count": 168,
   "metadata": {},
   "outputs": [
    {
     "data": {
      "text/plain": [
       "0     316\n",
       "6     333\n",
       "12    322\n",
       "Name: qty, dtype: int64"
      ]
     },
     "execution_count": 168,
     "metadata": {},
     "output_type": "execute_result"
    }
   ],
   "source": [
    "branch_products_count['qty'][0:18:6]"
   ]
  },
  {
   "cell_type": "code",
   "execution_count": 118,
   "metadata": {},
   "outputs": [
    {
     "data": {
      "image/png": "[encoded data removed]",
      "text/plain": [
       "<Figure size 864x432 with 1 Axes>"
      ]
     },
     "metadata": {},
     "output_type": "display_data"
    }
   ],
   "source": [
    "with plt.style.context('ggplot'):\n",
    "    plt.figure(figsize=(12,6))\n",
    "    ind = np.arange(3)\n",
    "    w = 0.12\n",
    "    col = ['#698B22', '#9ACD32', '#FFB90F', '#FF9000', '#FF5000', '#FF0000']\n",
    "    for i in range(5):\n",
    "        plt.bar(ind+i*w, branch_products_count['qty'][i:18:6], w, label=branch_products_count['products'][i:18:6].loc[i])\n",
    "    plt.xlabel('City/Branch')\n",
    "    plt.ylabel('Total Units Sold')\n",
    "    plt.title('Most Purchased Product on Each City/Branch')\n",
    "    plt.xticks(ind + 4*w / 2, rating_by_branch.branch_city)\n",
    "    plt.ylim(0, 530)\n",
    "    plt.legend(loc='best')\n",
    "    plt.show()"
   ]
  },
  {
   "cell_type": "code",
   "execution_count": 119,
   "metadata": {},
   "outputs": [],
   "source": [
    "branch_products_revenue = df.groupby(['branch_city','products'])['total'].sum()\n",
    "branch_products_revenue = pd.DataFrame(branch_products_revenue).reset_index()"
   ]
  },
  {
   "cell_type": "code",
   "execution_count": 120,
   "metadata": {},
   "outputs": [
    {
     "data": {
      "text/html": [
       "<div>\n",
       "<style scoped>\n",
       "    .dataframe tbody tr th:only-of-type {\n",
       "        vertical-align: middle;\n",
       "    }\n",
       "\n",
       "    .dataframe tbody tr th {\n",
       "        vertical-align: top;\n",
       "    }\n",
       "\n",
       "    .dataframe thead th {\n",
       "        text-align: right;\n",
       "    }\n",
       "</style>\n",
       "<table border=\"1\" class=\"dataframe\">\n",
       "  <thead>\n",
       "    <tr style=\"text-align: right;\">\n",
       "      <th></th>\n",
       "      <th>branch_city</th>\n",
       "      <th>products</th>\n",
       "      <th>total</th>\n",
       "    </tr>\n",
       "  </thead>\n",
       "  <tbody>\n",
       "    <tr>\n",
       "      <th>0</th>\n",
       "      <td>Mandalay/B</td>\n",
       "      <td>Electronic accessories</td>\n",
       "      <td>17051.4435</td>\n",
       "    </tr>\n",
       "    <tr>\n",
       "      <th>1</th>\n",
       "      <td>Mandalay/B</td>\n",
       "      <td>Fashion accessories</td>\n",
       "      <td>16413.3165</td>\n",
       "    </tr>\n",
       "    <tr>\n",
       "      <th>2</th>\n",
       "      <td>Mandalay/B</td>\n",
       "      <td>Food and beverages</td>\n",
       "      <td>15214.8885</td>\n",
       "    </tr>\n",
       "    <tr>\n",
       "      <th>3</th>\n",
       "      <td>Mandalay/B</td>\n",
       "      <td>Health and beauty</td>\n",
       "      <td>19980.6600</td>\n",
       "    </tr>\n",
       "  </tbody>\n",
       "</table>\n",
       "</div>"
      ],
      "text/plain": [
       "  branch_city                products       total\n",
       "0  Mandalay/B  Electronic accessories  17051.4435\n",
       "1  Mandalay/B     Fashion accessories  16413.3165\n",
       "2  Mandalay/B      Food and beverages  15214.8885\n",
       "3  Mandalay/B       Health and beauty  19980.6600"
      ]
     },
     "execution_count": 120,
     "metadata": {},
     "output_type": "execute_result"
    }
   ],
   "source": [
    "branch_products_revenue.head(4)"
   ]
  },
  {
   "cell_type": "code",
   "execution_count": 121,
   "metadata": {},
   "outputs": [
    {
     "data": {
      "image/png": "[encoded data removed]",
      "text/plain": [
       "<Figure size 864x432 with 1 Axes>"
      ]
     },
     "metadata": {},
     "output_type": "display_data"
    }
   ],
   "source": [
    "with plt.style.context('ggplot'):\n",
    "    plt.figure(figsize=(12,6))\n",
    "    ind = np.arange(3)\n",
    "    w = 0.12\n",
    "    col = ['#698B22', '#9ACD32', '#FFB90F', '#FF9000', '#FF5000', '#FF0000']\n",
    "    for i in range(5):\n",
    "        plt.bar(ind+i*w, branch_products_revenue['total'][i:18:6], w, label=branch_products_revenue['products'][i:18:6].loc[i])\n",
    "    plt.xlabel('City/Branch')\n",
    "    plt.ylabel('Total Revenue Earned')\n",
    "    plt.title('Best Sales Product on Each City/Branch')\n",
    "    plt.xticks(ind + 4*w / 2, rating_by_branch.branch_city)\n",
    "    plt.ylim(0, 30000)\n",
    "    plt.legend(loc='best')\n",
    "    plt.show()"
   ]
  },
  {
   "cell_type": "code",
   "execution_count": 122,
   "metadata": {},
   "outputs": [
    {
     "data": {
      "image/png": "[encoded data removed]",
      "text/plain": [
       "<Figure size 720x504 with 1 Axes>"
      ]
     },
     "metadata": {},
     "output_type": "display_data"
    }
   ],
   "source": [
    "with plt.style.context('ggplot'):\n",
    "    plt.figure(figsize=(10,7))\n",
    "    month_3 = np.array(['January', 'February', 'March'])\n",
    "    plt.bar(month_3, df.groupby('month')['total'].sum(),0.4)\n",
    "    plt.xlabel('Month')\n",
    "    plt.ylabel('Revenue')\n",
    "    plt.title('Monthly Revenue')"
   ]
  },
  {
   "cell_type": "code",
   "execution_count": 123,
   "metadata": {},
   "outputs": [],
   "source": [
    "total_by_day = df.groupby(['month', 'day'])['total'].sum().unstack()"
   ]
  },
  {
   "cell_type": "code",
   "execution_count": 124,
   "metadata": {},
   "outputs": [],
   "source": [
    "total_by_day = pd.DataFrame(total_by_day)"
   ]
  },
  {
   "cell_type": "code",
   "execution_count": 125,
   "metadata": {},
   "outputs": [
    {
     "data": {
      "text/html": [
       "<div>\n",
       "<style scoped>\n",
       "    .dataframe tbody tr th:only-of-type {\n",
       "        vertical-align: middle;\n",
       "    }\n",
       "\n",
       "    .dataframe tbody tr th {\n",
       "        vertical-align: top;\n",
       "    }\n",
       "\n",
       "    .dataframe thead th {\n",
       "        text-align: right;\n",
       "    }\n",
       "</style>\n",
       "<table border=\"1\" class=\"dataframe\">\n",
       "  <thead>\n",
       "    <tr style=\"text-align: right;\">\n",
       "      <th>day</th>\n",
       "      <th>1</th>\n",
       "      <th>2</th>\n",
       "      <th>3</th>\n",
       "      <th>4</th>\n",
       "      <th>5</th>\n",
       "      <th>6</th>\n",
       "      <th>7</th>\n",
       "      <th>8</th>\n",
       "      <th>9</th>\n",
       "      <th>10</th>\n",
       "      <th>...</th>\n",
       "      <th>22</th>\n",
       "      <th>23</th>\n",
       "      <th>24</th>\n",
       "      <th>25</th>\n",
       "      <th>26</th>\n",
       "      <th>27</th>\n",
       "      <th>28</th>\n",
       "      <th>29</th>\n",
       "      <th>30</th>\n",
       "      <th>31</th>\n",
       "    </tr>\n",
       "    <tr>\n",
       "      <th>month</th>\n",
       "      <th></th>\n",
       "      <th></th>\n",
       "      <th></th>\n",
       "      <th></th>\n",
       "      <th></th>\n",
       "      <th></th>\n",
       "      <th></th>\n",
       "      <th></th>\n",
       "      <th></th>\n",
       "      <th></th>\n",
       "      <th></th>\n",
       "      <th></th>\n",
       "      <th></th>\n",
       "      <th></th>\n",
       "      <th></th>\n",
       "      <th></th>\n",
       "      <th></th>\n",
       "      <th></th>\n",
       "      <th></th>\n",
       "      <th></th>\n",
       "      <th></th>\n",
       "    </tr>\n",
       "  </thead>\n",
       "  <tbody>\n",
       "    <tr>\n",
       "      <th>1</th>\n",
       "      <td>4745.1810</td>\n",
       "      <td>1945.5030</td>\n",
       "      <td>2078.1285</td>\n",
       "      <td>1623.6885</td>\n",
       "      <td>3536.6835</td>\n",
       "      <td>3614.2050</td>\n",
       "      <td>2834.2440</td>\n",
       "      <td>5293.7325</td>\n",
       "      <td>3021.3435</td>\n",
       "      <td>3560.9490</td>\n",
       "      <td>...</td>\n",
       "      <td>1704.7695</td>\n",
       "      <td>5994.1875</td>\n",
       "      <td>5402.0505</td>\n",
       "      <td>4700.3670</td>\n",
       "      <td>4457.5125</td>\n",
       "      <td>4635.8970</td>\n",
       "      <td>4999.7115</td>\n",
       "      <td>3516.5655</td>\n",
       "      <td>2558.2620</td>\n",
       "      <td>5232.4965</td>\n",
       "    </tr>\n",
       "    <tr>\n",
       "      <th>2</th>\n",
       "      <td>2444.5365</td>\n",
       "      <td>4140.9480</td>\n",
       "      <td>5467.9275</td>\n",
       "      <td>2439.4965</td>\n",
       "      <td>3031.1295</td>\n",
       "      <td>2905.4235</td>\n",
       "      <td>7228.2105</td>\n",
       "      <td>5084.6565</td>\n",
       "      <td>3271.8945</td>\n",
       "      <td>3141.0225</td>\n",
       "      <td>...</td>\n",
       "      <td>2442.3105</td>\n",
       "      <td>2339.5890</td>\n",
       "      <td>2722.4610</td>\n",
       "      <td>4807.2360</td>\n",
       "      <td>2408.1645</td>\n",
       "      <td>5859.4515</td>\n",
       "      <td>2097.0180</td>\n",
       "      <td>NaN</td>\n",
       "      <td>NaN</td>\n",
       "      <td>NaN</td>\n",
       "    </tr>\n",
       "    <tr>\n",
       "      <th>3</th>\n",
       "      <td>2634.3660</td>\n",
       "      <td>6560.3055</td>\n",
       "      <td>4853.1735</td>\n",
       "      <td>3894.4395</td>\n",
       "      <td>6230.8785</td>\n",
       "      <td>3092.5965</td>\n",
       "      <td>1438.2585</td>\n",
       "      <td>3125.3880</td>\n",
       "      <td>7474.0470</td>\n",
       "      <td>3163.2300</td>\n",
       "      <td>...</td>\n",
       "      <td>3179.1480</td>\n",
       "      <td>4095.0420</td>\n",
       "      <td>3477.4635</td>\n",
       "      <td>2272.9665</td>\n",
       "      <td>1962.5130</td>\n",
       "      <td>2902.8195</td>\n",
       "      <td>2229.4020</td>\n",
       "      <td>4023.2430</td>\n",
       "      <td>4487.0595</td>\n",
       "      <td>NaN</td>\n",
       "    </tr>\n",
       "  </tbody>\n",
       "</table>\n",
       "<p>3 rows × 31 columns</p>\n",
       "</div>"
      ],
      "text/plain": [
       "day           1          2          3          4          5          6   \\\n",
       "month                                                                     \n",
       "1      4745.1810  1945.5030  2078.1285  1623.6885  3536.6835  3614.2050   \n",
       "2      2444.5365  4140.9480  5467.9275  2439.4965  3031.1295  2905.4235   \n",
       "3      2634.3660  6560.3055  4853.1735  3894.4395  6230.8785  3092.5965   \n",
       "\n",
       "day           7          8          9          10  ...         22         23  \\\n",
       "month                                              ...                         \n",
       "1      2834.2440  5293.7325  3021.3435  3560.9490  ...  1704.7695  5994.1875   \n",
       "2      7228.2105  5084.6565  3271.8945  3141.0225  ...  2442.3105  2339.5890   \n",
       "3      1438.2585  3125.3880  7474.0470  3163.2300  ...  3179.1480  4095.0420   \n",
       "\n",
       "day           24         25         26         27         28         29  \\\n",
       "month                                                                     \n",
       "1      5402.0505  4700.3670  4457.5125  4635.8970  4999.7115  3516.5655   \n",
       "2      2722.4610  4807.2360  2408.1645  5859.4515  2097.0180        NaN   \n",
       "3      3477.4635  2272.9665  1962.5130  2902.8195  2229.4020  4023.2430   \n",
       "\n",
       "day           30         31  \n",
       "month                        \n",
       "1      2558.2620  5232.4965  \n",
       "2            NaN        NaN  \n",
       "3      4487.0595        NaN  \n",
       "\n",
       "[3 rows x 31 columns]"
      ]
     },
     "execution_count": 125,
     "metadata": {},
     "output_type": "execute_result"
    }
   ],
   "source": [
    "total_by_day"
   ]
  },
  {
   "cell_type": "code",
   "execution_count": 126,
   "metadata": {},
   "outputs": [],
   "source": [
    "list_total_day = list(total_by_day.loc[1]) + list(total_by_day.loc[2]) + list(total_by_day.loc[3])\n"
   ]
  },
  {
   "cell_type": "code",
   "execution_count": 176,
   "metadata": {},
   "outputs": [
    {
     "data": {
      "text/plain": [
       "day\n",
       "1     4745.1810\n",
       "2     1945.5030\n",
       "3     2078.1285\n",
       "4     1623.6885\n",
       "5     3536.6835\n",
       "6     3614.2050\n",
       "7     2834.2440\n",
       "8     5293.7325\n",
       "9     3021.3435\n",
       "10    3560.9490\n",
       "11    2114.9625\n",
       "12    5184.7635\n",
       "13    2451.2040\n",
       "14    3966.6165\n",
       "15    5944.2600\n",
       "16    4289.0820\n",
       "17    3142.7550\n",
       "18    2780.4735\n",
       "19    4914.7245\n",
       "20    3655.4490\n",
       "21    2392.0995\n",
       "22    1704.7695\n",
       "23    5994.1875\n",
       "24    5402.0505\n",
       "25    4700.3670\n",
       "26    4457.5125\n",
       "27    4635.8970\n",
       "28    4999.7115\n",
       "29    3516.5655\n",
       "30    2558.2620\n",
       "31    5232.4965\n",
       "Name: 1, dtype: float64"
      ]
     },
     "execution_count": 176,
     "metadata": {},
     "output_type": "execute_result"
    }
   ],
   "source": [
    "total_by_day.iloc[0]"
   ]
  },
  {
   "cell_type": "code",
   "execution_count": 127,
   "metadata": {},
   "outputs": [
    {
     "data": {
      "text/plain": [
       "93"
      ]
     },
     "execution_count": 127,
     "metadata": {},
     "output_type": "execute_result"
    }
   ],
   "source": [
    "len(list_total_day)"
   ]
  },
  {
   "cell_type": "code",
   "execution_count": 128,
   "metadata": {},
   "outputs": [],
   "source": [
    "list_total_day = [x for x in list_total_day if str(x) != 'nan']"
   ]
  },
  {
   "cell_type": "code",
   "execution_count": 129,
   "metadata": {},
   "outputs": [
    {
     "data": {
      "text/plain": [
       "89"
      ]
     },
     "execution_count": 129,
     "metadata": {},
     "output_type": "execute_result"
    }
   ],
   "source": [
    "len(list_total_day)"
   ]
  },
  {
   "cell_type": "code",
   "execution_count": 130,
   "metadata": {},
   "outputs": [],
   "source": [
    "list_total_week = []\n",
    "for i in range(12):\n",
    "    #week[i] = list_total_day[0:7] list_total_day[7:14] list_total_day[14:21] list_total_day[21:28]\n",
    "    list_total_week.append(sum(list_total_day[i*7:(i+1)*7])/7)\n",
    "list_total_week.append(sum(list_total_day[84:90])/5)\n"
   ]
  },
  {
   "cell_type": "code",
   "execution_count": 131,
   "metadata": {},
   "outputs": [
    {
     "data": {
      "image/png": "[encoded data removed]",
      "text/plain": [
       "<Figure size 720x504 with 1 Axes>"
      ]
     },
     "metadata": {},
     "output_type": "display_data"
    }
   ],
   "source": [
    "with plt.style.context('ggplot'):\n",
    "    plt.figure(figsize=(10,7))\n",
    "    week = np.linspace(1,13, 13)\n",
    "    plt.plot(week, np.array(list_total_week))\n",
    "    plt.xlabel('Week')\n",
    "    plt.ylabel('Total Sales Mean')\n",
    "    plt.title('Weekly Total Sales Mean')\n",
    "    plt.show()"
   ]
  },
  {
   "cell_type": "code",
   "execution_count": 169,
   "metadata": {},
   "outputs": [],
   "source": [
    "df2 =pd.DataFrame({'week': list(np.linspace(1,13, 13)), 'val': list_total_week})"
   ]
  },
  {
   "cell_type": "code",
   "execution_count": 170,
   "metadata": {},
   "outputs": [
    {
     "data": {
      "text/html": [
       "<div>\n",
       "<style scoped>\n",
       "    .dataframe tbody tr th:only-of-type {\n",
       "        vertical-align: middle;\n",
       "    }\n",
       "\n",
       "    .dataframe tbody tr th {\n",
       "        vertical-align: top;\n",
       "    }\n",
       "\n",
       "    .dataframe thead th {\n",
       "        text-align: right;\n",
       "    }\n",
       "</style>\n",
       "<table border=\"1\" class=\"dataframe\">\n",
       "  <thead>\n",
       "    <tr style=\"text-align: right;\">\n",
       "      <th></th>\n",
       "      <th>week</th>\n",
       "      <th>val</th>\n",
       "    </tr>\n",
       "  </thead>\n",
       "  <tbody>\n",
       "    <tr>\n",
       "      <th>0</th>\n",
       "      <td>1.0</td>\n",
       "      <td>2911.0905</td>\n",
       "    </tr>\n",
       "    <tr>\n",
       "      <th>1</th>\n",
       "      <td>2.0</td>\n",
       "      <td>3656.2245</td>\n",
       "    </tr>\n",
       "    <tr>\n",
       "      <th>2</th>\n",
       "      <td>3.0</td>\n",
       "      <td>3874.1205</td>\n",
       "    </tr>\n",
       "    <tr>\n",
       "      <th>3</th>\n",
       "      <td>4.0</td>\n",
       "      <td>4556.3565</td>\n",
       "    </tr>\n",
       "    <tr>\n",
       "      <th>4</th>\n",
       "      <td>5.0</td>\n",
       "      <td>3685.7475</td>\n",
       "    </tr>\n",
       "    <tr>\n",
       "      <th>5</th>\n",
       "      <td>6.0</td>\n",
       "      <td>4172.0700</td>\n",
       "    </tr>\n",
       "    <tr>\n",
       "      <th>6</th>\n",
       "      <td>7.0</td>\n",
       "      <td>3216.7815</td>\n",
       "    </tr>\n",
       "    <tr>\n",
       "      <th>7</th>\n",
       "      <td>8.0</td>\n",
       "      <td>2948.5530</td>\n",
       "    </tr>\n",
       "    <tr>\n",
       "      <th>8</th>\n",
       "      <td>9.0</td>\n",
       "      <td>4043.8455</td>\n",
       "    </tr>\n",
       "    <tr>\n",
       "      <th>9</th>\n",
       "      <td>10.0</td>\n",
       "      <td>3926.5215</td>\n",
       "    </tr>\n",
       "    <tr>\n",
       "      <th>10</th>\n",
       "      <td>11.0</td>\n",
       "      <td>3188.8290</td>\n",
       "    </tr>\n",
       "    <tr>\n",
       "      <th>11</th>\n",
       "      <td>12.0</td>\n",
       "      <td>3728.6760</td>\n",
       "    </tr>\n",
       "    <tr>\n",
       "      <th>12</th>\n",
       "      <td>13.0</td>\n",
       "      <td>3121.0074</td>\n",
       "    </tr>\n",
       "  </tbody>\n",
       "</table>\n",
       "</div>"
      ],
      "text/plain": [
       "    week        val\n",
       "0    1.0  2911.0905\n",
       "1    2.0  3656.2245\n",
       "2    3.0  3874.1205\n",
       "3    4.0  4556.3565\n",
       "4    5.0  3685.7475\n",
       "5    6.0  4172.0700\n",
       "6    7.0  3216.7815\n",
       "7    8.0  2948.5530\n",
       "8    9.0  4043.8455\n",
       "9   10.0  3926.5215\n",
       "10  11.0  3188.8290\n",
       "11  12.0  3728.6760\n",
       "12  13.0  3121.0074"
      ]
     },
     "execution_count": 170,
     "metadata": {},
     "output_type": "execute_result"
    }
   ],
   "source": [
    "df2"
   ]
  },
  {
   "cell_type": "code",
   "execution_count": 132,
   "metadata": {},
   "outputs": [
    {
     "data": {
      "text/html": [
       "<div>\n",
       "<style scoped>\n",
       "    .dataframe tbody tr th:only-of-type {\n",
       "        vertical-align: middle;\n",
       "    }\n",
       "\n",
       "    .dataframe tbody tr th {\n",
       "        vertical-align: top;\n",
       "    }\n",
       "\n",
       "    .dataframe thead th {\n",
       "        text-align: right;\n",
       "    }\n",
       "</style>\n",
       "<table border=\"1\" class=\"dataframe\">\n",
       "  <thead>\n",
       "    <tr style=\"text-align: right;\">\n",
       "      <th>rating2</th>\n",
       "      <th>Bad</th>\n",
       "      <th>Good</th>\n",
       "      <th>Not Good</th>\n",
       "      <th>Very Good</th>\n",
       "    </tr>\n",
       "    <tr>\n",
       "      <th>Date</th>\n",
       "      <th></th>\n",
       "      <th></th>\n",
       "      <th></th>\n",
       "      <th></th>\n",
       "    </tr>\n",
       "  </thead>\n",
       "  <tbody>\n",
       "    <tr>\n",
       "      <th>2019-01-01</th>\n",
       "      <td>NaN</td>\n",
       "      <td>6.0</td>\n",
       "      <td>4.0</td>\n",
       "      <td>2.0</td>\n",
       "    </tr>\n",
       "    <tr>\n",
       "      <th>2019-01-02</th>\n",
       "      <td>NaN</td>\n",
       "      <td>3.0</td>\n",
       "      <td>5.0</td>\n",
       "      <td>NaN</td>\n",
       "    </tr>\n",
       "    <tr>\n",
       "      <th>2019-01-03</th>\n",
       "      <td>NaN</td>\n",
       "      <td>3.0</td>\n",
       "      <td>1.0</td>\n",
       "      <td>4.0</td>\n",
       "    </tr>\n",
       "    <tr>\n",
       "      <th>2019-01-04</th>\n",
       "      <td>NaN</td>\n",
       "      <td>3.0</td>\n",
       "      <td>2.0</td>\n",
       "      <td>1.0</td>\n",
       "    </tr>\n",
       "    <tr>\n",
       "      <th>2019-01-05</th>\n",
       "      <td>NaN</td>\n",
       "      <td>4.0</td>\n",
       "      <td>3.0</td>\n",
       "      <td>5.0</td>\n",
       "    </tr>\n",
       "    <tr>\n",
       "      <th>...</th>\n",
       "      <td>...</td>\n",
       "      <td>...</td>\n",
       "      <td>...</td>\n",
       "      <td>...</td>\n",
       "    </tr>\n",
       "    <tr>\n",
       "      <th>2019-03-26</th>\n",
       "      <td>NaN</td>\n",
       "      <td>4.0</td>\n",
       "      <td>6.0</td>\n",
       "      <td>3.0</td>\n",
       "    </tr>\n",
       "    <tr>\n",
       "      <th>2019-03-27</th>\n",
       "      <td>NaN</td>\n",
       "      <td>4.0</td>\n",
       "      <td>4.0</td>\n",
       "      <td>2.0</td>\n",
       "    </tr>\n",
       "    <tr>\n",
       "      <th>2019-03-28</th>\n",
       "      <td>NaN</td>\n",
       "      <td>2.0</td>\n",
       "      <td>4.0</td>\n",
       "      <td>4.0</td>\n",
       "    </tr>\n",
       "    <tr>\n",
       "      <th>2019-03-29</th>\n",
       "      <td>NaN</td>\n",
       "      <td>2.0</td>\n",
       "      <td>3.0</td>\n",
       "      <td>3.0</td>\n",
       "    </tr>\n",
       "    <tr>\n",
       "      <th>2019-03-30</th>\n",
       "      <td>1.0</td>\n",
       "      <td>5.0</td>\n",
       "      <td>3.0</td>\n",
       "      <td>2.0</td>\n",
       "    </tr>\n",
       "  </tbody>\n",
       "</table>\n",
       "<p>89 rows × 4 columns</p>\n",
       "</div>"
      ],
      "text/plain": [
       "rating2     Bad  Good  Not Good  Very Good\n",
       "Date                                      \n",
       "2019-01-01  NaN   6.0       4.0        2.0\n",
       "2019-01-02  NaN   3.0       5.0        NaN\n",
       "2019-01-03  NaN   3.0       1.0        4.0\n",
       "2019-01-04  NaN   3.0       2.0        1.0\n",
       "2019-01-05  NaN   4.0       3.0        5.0\n",
       "...         ...   ...       ...        ...\n",
       "2019-03-26  NaN   4.0       6.0        3.0\n",
       "2019-03-27  NaN   4.0       4.0        2.0\n",
       "2019-03-28  NaN   2.0       4.0        4.0\n",
       "2019-03-29  NaN   2.0       3.0        3.0\n",
       "2019-03-30  1.0   5.0       3.0        2.0\n",
       "\n",
       "[89 rows x 4 columns]"
      ]
     },
     "execution_count": 132,
     "metadata": {},
     "output_type": "execute_result"
    }
   ],
   "source": [
    "rating_day = df.groupby(['Date','rating2'])['rating2'].count().unstack().reset_index().set_index('Date')"
   ]
  },
  {
   "cell_type": "code",
   "execution_count": 133,
   "metadata": {},
   "outputs": [],
   "source": [
    "rating_day.insert(0, 'Very Bad', 0)"
   ]
  },
  {
   "cell_type": "code",
   "execution_count": 141,
   "metadata": {},
   "outputs": [],
   "source": [
    "rating_day = rating_day.replace(np.nan, 0)"
   ]
  },
  {
   "cell_type": "code",
   "execution_count": 151,
   "metadata": {},
   "outputs": [],
   "source": [
    "rating_day['mean'] = df.groupby(['Date'])['rating'].mean()"
   ]
  },
  {
   "cell_type": "code",
   "execution_count": 160,
   "metadata": {},
   "outputs": [],
   "source": [
    "rating_day['sum'] = rating_day.T.iloc[0:5].sum()"
   ]
  },
  {
   "cell_type": "code",
   "execution_count": 161,
   "metadata": {},
   "outputs": [
    {
     "data": {
      "text/html": [
       "<div>\n",
       "<style scoped>\n",
       "    .dataframe tbody tr th:only-of-type {\n",
       "        vertical-align: middle;\n",
       "    }\n",
       "\n",
       "    .dataframe tbody tr th {\n",
       "        vertical-align: top;\n",
       "    }\n",
       "\n",
       "    .dataframe thead th {\n",
       "        text-align: right;\n",
       "    }\n",
       "</style>\n",
       "<table border=\"1\" class=\"dataframe\">\n",
       "  <thead>\n",
       "    <tr style=\"text-align: right;\">\n",
       "      <th>rating2</th>\n",
       "      <th>Very Bad</th>\n",
       "      <th>Bad</th>\n",
       "      <th>Good</th>\n",
       "      <th>Not Good</th>\n",
       "      <th>Very Good</th>\n",
       "      <th>mean</th>\n",
       "      <th>sum</th>\n",
       "    </tr>\n",
       "    <tr>\n",
       "      <th>Date</th>\n",
       "      <th></th>\n",
       "      <th></th>\n",
       "      <th></th>\n",
       "      <th></th>\n",
       "      <th></th>\n",
       "      <th></th>\n",
       "      <th></th>\n",
       "    </tr>\n",
       "  </thead>\n",
       "  <tbody>\n",
       "    <tr>\n",
       "      <th>2019-01-01</th>\n",
       "      <td>0</td>\n",
       "      <td>0.0</td>\n",
       "      <td>6.0</td>\n",
       "      <td>4.0</td>\n",
       "      <td>2.0</td>\n",
       "      <td>6.583333</td>\n",
       "      <td>12.0</td>\n",
       "    </tr>\n",
       "    <tr>\n",
       "      <th>2019-01-02</th>\n",
       "      <td>0</td>\n",
       "      <td>0.0</td>\n",
       "      <td>3.0</td>\n",
       "      <td>5.0</td>\n",
       "      <td>0.0</td>\n",
       "      <td>6.050000</td>\n",
       "      <td>8.0</td>\n",
       "    </tr>\n",
       "    <tr>\n",
       "      <th>2019-01-03</th>\n",
       "      <td>0</td>\n",
       "      <td>0.0</td>\n",
       "      <td>3.0</td>\n",
       "      <td>1.0</td>\n",
       "      <td>4.0</td>\n",
       "      <td>8.112500</td>\n",
       "      <td>8.0</td>\n",
       "    </tr>\n",
       "    <tr>\n",
       "      <th>2019-01-04</th>\n",
       "      <td>0</td>\n",
       "      <td>0.0</td>\n",
       "      <td>3.0</td>\n",
       "      <td>2.0</td>\n",
       "      <td>1.0</td>\n",
       "      <td>6.516667</td>\n",
       "      <td>6.0</td>\n",
       "    </tr>\n",
       "    <tr>\n",
       "      <th>2019-01-05</th>\n",
       "      <td>0</td>\n",
       "      <td>0.0</td>\n",
       "      <td>4.0</td>\n",
       "      <td>3.0</td>\n",
       "      <td>5.0</td>\n",
       "      <td>7.433333</td>\n",
       "      <td>12.0</td>\n",
       "    </tr>\n",
       "    <tr>\n",
       "      <th>...</th>\n",
       "      <td>...</td>\n",
       "      <td>...</td>\n",
       "      <td>...</td>\n",
       "      <td>...</td>\n",
       "      <td>...</td>\n",
       "      <td>...</td>\n",
       "      <td>...</td>\n",
       "    </tr>\n",
       "    <tr>\n",
       "      <th>2019-03-26</th>\n",
       "      <td>0</td>\n",
       "      <td>0.0</td>\n",
       "      <td>4.0</td>\n",
       "      <td>6.0</td>\n",
       "      <td>3.0</td>\n",
       "      <td>6.623077</td>\n",
       "      <td>13.0</td>\n",
       "    </tr>\n",
       "    <tr>\n",
       "      <th>2019-03-27</th>\n",
       "      <td>0</td>\n",
       "      <td>0.0</td>\n",
       "      <td>4.0</td>\n",
       "      <td>4.0</td>\n",
       "      <td>2.0</td>\n",
       "      <td>6.760000</td>\n",
       "      <td>10.0</td>\n",
       "    </tr>\n",
       "    <tr>\n",
       "      <th>2019-03-28</th>\n",
       "      <td>0</td>\n",
       "      <td>0.0</td>\n",
       "      <td>2.0</td>\n",
       "      <td>4.0</td>\n",
       "      <td>4.0</td>\n",
       "      <td>7.050000</td>\n",
       "      <td>10.0</td>\n",
       "    </tr>\n",
       "    <tr>\n",
       "      <th>2019-03-29</th>\n",
       "      <td>0</td>\n",
       "      <td>0.0</td>\n",
       "      <td>2.0</td>\n",
       "      <td>3.0</td>\n",
       "      <td>3.0</td>\n",
       "      <td>6.925000</td>\n",
       "      <td>8.0</td>\n",
       "    </tr>\n",
       "    <tr>\n",
       "      <th>2019-03-30</th>\n",
       "      <td>0</td>\n",
       "      <td>1.0</td>\n",
       "      <td>5.0</td>\n",
       "      <td>3.0</td>\n",
       "      <td>2.0</td>\n",
       "      <td>6.800000</td>\n",
       "      <td>11.0</td>\n",
       "    </tr>\n",
       "  </tbody>\n",
       "</table>\n",
       "<p>89 rows × 7 columns</p>\n",
       "</div>"
      ],
      "text/plain": [
       "rating2     Very Bad  Bad  Good  Not Good  Very Good      mean   sum\n",
       "Date                                                                \n",
       "2019-01-01         0  0.0   6.0       4.0        2.0  6.583333  12.0\n",
       "2019-01-02         0  0.0   3.0       5.0        0.0  6.050000   8.0\n",
       "2019-01-03         0  0.0   3.0       1.0        4.0  8.112500   8.0\n",
       "2019-01-04         0  0.0   3.0       2.0        1.0  6.516667   6.0\n",
       "2019-01-05         0  0.0   4.0       3.0        5.0  7.433333  12.0\n",
       "...              ...  ...   ...       ...        ...       ...   ...\n",
       "2019-03-26         0  0.0   4.0       6.0        3.0  6.623077  13.0\n",
       "2019-03-27         0  0.0   4.0       4.0        2.0  6.760000  10.0\n",
       "2019-03-28         0  0.0   2.0       4.0        4.0  7.050000  10.0\n",
       "2019-03-29         0  0.0   2.0       3.0        3.0  6.925000   8.0\n",
       "2019-03-30         0  1.0   5.0       3.0        2.0  6.800000  11.0\n",
       "\n",
       "[89 rows x 7 columns]"
      ]
     },
     "execution_count": 161,
     "metadata": {},
     "output_type": "execute_result"
    }
   ],
   "source": [
    "rating_day"
   ]
  },
  {
   "cell_type": "code",
   "execution_count": 164,
   "metadata": {},
   "outputs": [
    {
     "data": {
      "text/plain": [
       "rating2\n",
       "Very Bad     0.000000\n",
       "Bad          0.000000\n",
       "Good         6.000000\n",
       "Not Good     4.000000\n",
       "Very Good    2.000000\n",
       "mean         6.583333\n",
       "Name: 2019-01-01 00:00:00, dtype: float64"
      ]
     },
     "execution_count": 164,
     "metadata": {},
     "output_type": "execute_result"
    }
   ],
   "source": [
    "rating_day.iloc[0][0:6]"
   ]
  },
  {
   "cell_type": "code",
   "execution_count": 147,
   "metadata": {},
   "outputs": [
    {
     "data": {
      "text/plain": [
       "<matplotlib.axes._subplots.AxesSubplot at 0x9f5d749e80>"
      ]
     },
     "execution_count": 147,
     "metadata": {},
     "output_type": "execute_result"
    },
    {
     "data": {
      "image/png": "[encoded data removed]",
      "text/plain": [
       "<Figure size 432x288 with 1 Axes>"
      ]
     },
     "metadata": {
      "needs_background": "light"
     },
     "output_type": "display_data"
    }
   ],
   "source": [
    "rating_day.iloc[0].plot(kind='bar')"
   ]
  },
  {
   "cell_type": "code",
   "execution_count": 149,
   "metadata": {},
   "outputs": [
    {
     "data": {
      "text/plain": [
       "array([0., 0., 6., 4., 2.])"
      ]
     },
     "execution_count": 149,
     "metadata": {},
     "output_type": "execute_result"
    }
   ],
   "source": [
    "rating_day.iloc[0].values"
   ]
  },
  {
   "cell_type": "code",
   "execution_count": 150,
   "metadata": {},
   "outputs": [
    {
     "data": {
      "text/plain": [
       "Date\n",
       "2019-01-01    6.583333\n",
       "2019-01-02    6.050000\n",
       "2019-01-03    8.112500\n",
       "2019-01-04    6.516667\n",
       "2019-01-05    7.433333\n",
       "                ...   \n",
       "2019-03-26    6.623077\n",
       "2019-03-27    6.760000\n",
       "2019-03-28    7.050000\n",
       "2019-03-29    6.925000\n",
       "2019-03-30    6.800000\n",
       "Name: rating, Length: 89, dtype: float64"
      ]
     },
     "execution_count": 150,
     "metadata": {},
     "output_type": "execute_result"
    }
   ],
   "source": [
    "rating_day2 = df.groupby(['Date'])['rating'].mean()\n",
    "rating_day2"
   ]
  },
  {
   "cell_type": "code",
   "execution_count": null,
   "metadata": {},
   "outputs": [],
   "source": []
  }
 ],
 "metadata": {
  "interpreter": {
   "hash": "6f49874e70d65f3ad41d30fdc4564a87c0f9ee1662c3c57c6ddd6b2e48d08ee9"
  },
  "kernelspec": {
   "display_name": "Python 3.8.1 64-bit",
   "language": "python",
   "name": "python3"
  },
  "language_info": {
   "codemirror_mode": {
    "name": "ipython",
    "version": 3
   },
   "file_extension": ".py",
   "mimetype": "text/x-python",
   "name": "python",
   "nbconvert_exporter": "python",
   "pygments_lexer": "ipython3",
   "version": "3.8.1"
  },
  "orig_nbformat": 4
 },
 "nbformat": 4,
 "nbformat_minor": 2
}
