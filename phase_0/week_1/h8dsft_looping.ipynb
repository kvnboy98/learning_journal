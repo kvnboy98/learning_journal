{
 "cells": [
  {
   "cell_type": "code",
   "execution_count": 3,
   "metadata": {},
   "outputs": [],
   "source": [
    "numbers = [\n",
    "    951, 402, 984, 651, 360, 69, 408, 319, \n",
    "    601, 485, 980, 507, 725, 547, 544, 615, \n",
    "    83, 165, 141, 501, 263, 617, 865, 575, \n",
    "    219, 390, 984, 592, 236, 105, 942, 941, \n",
    "    386, 462, 47, 418, 907, 344, 236, 375, \n",
    "    823, 566, 597, 978, 328, 615, 953, 345, \n",
    "    399, 162, 758, 219, 918, 237, 412, 566, \n",
    "    826, 248, 866, 950, 626, 949\n",
    "    ]"
   ]
  },
  {
   "cell_type": "code",
   "execution_count": 26,
   "metadata": {},
   "outputs": [
    {
     "name": "stdout",
     "output_type": "stream",
     "text": [
      "402\n",
      "984\n",
      "360\n",
      "408\n",
      "980\n",
      "544\n",
      "390\n",
      "984\n",
      "592\n",
      "236\n",
      "942\n",
      "386\n",
      "462\n",
      "418\n",
      "344\n",
      "236\n",
      "566\n",
      "978\n",
      "328\n",
      "162\n",
      "758\n",
      "918\n",
      "Done\n"
     ]
    }
   ],
   "source": [
    "for i in numbers:\n",
    "    if i % 2 == 0:\n",
    "        print(i)\n",
    "        if i == 918:\n",
    "            print('Done')\n",
    "            break"
   ]
  }
 ],
 "metadata": {
  "interpreter": {
   "hash": "40dd8ac0d9deade98bfeabe90f4917b89019717cb94bf6765b4ad8fd51991e19"
  },
  "kernelspec": {
   "display_name": "Python 3.6.5 ('base')",
   "language": "python",
   "name": "python3"
  },
  "language_info": {
   "codemirror_mode": {
    "name": "ipython",
    "version": 3
   },
   "file_extension": ".py",
   "mimetype": "text/x-python",
   "name": "python",
   "nbconvert_exporter": "python",
   "pygments_lexer": "ipython3",
   "version": "3.6.5"
  },
  "orig_nbformat": 4
 },
 "nbformat": 4,
 "nbformat_minor": 2
}
