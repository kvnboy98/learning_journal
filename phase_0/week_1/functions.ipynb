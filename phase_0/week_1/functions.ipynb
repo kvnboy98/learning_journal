{
 "cells": [
  {
   "cell_type": "code",
   "execution_count": 6,
   "metadata": {},
   "outputs": [],
   "source": [
    "def jumlah(a,b):\n",
    "    print('jumlah =',(a+b))"
   ]
  },
  {
   "cell_type": "code",
   "execution_count": 7,
   "metadata": {},
   "outputs": [
    {
     "name": "stdout",
     "output_type": "stream",
     "text": [
      "jumlah = 5\n"
     ]
    }
   ],
   "source": [
    "jumlah(2,3)"
   ]
  },
  {
   "cell_type": "code",
   "execution_count": 8,
   "metadata": {},
   "outputs": [
    {
     "name": "stdout",
     "output_type": "stream",
     "text": [
      "arg1     :  10\n",
      "vartuple :  ()\n",
      "\n",
      "arg1     :  70\n",
      "vartuple :  (60, 50, 'a')\n",
      "\n",
      "isi vartuple :  60\n",
      "isi vartuple :  50\n",
      "isi vartuple :  a\n"
     ]
    }
   ],
   "source": [
    "# Function definition is here\n",
    "def printinfo( arg1, *vartuple ):\n",
    "# def printinfo(arg1, arg2, arg3, arg4):\n",
    "   '''This prints a variable passed arguments'''\n",
    "   print('arg1     : ', arg1)\n",
    "   print('vartuple : ', vartuple)\n",
    "   print('')\n",
    "   \n",
    "   for var in vartuple:\n",
    "      print('isi vartuple : ', var) \n",
    "\n",
    "# Now you can call printinfo function\n",
    "printinfo( 10 )\n",
    "printinfo( 70, 60, 50, \"a\" )"
   ]
  },
  {
   "cell_type": "code",
   "execution_count": 9,
   "metadata": {},
   "outputs": [
    {
     "name": "stdout",
     "output_type": "stream",
     "text": [
      "Total Data :  3\n",
      "Person :  jimmy\n",
      "Car    :  chevrolet\n",
      "\n",
      "Person :  frank\n",
      "Car    :  ford\n",
      "\n",
      "Person :  tina\n",
      "Car    :  honda\n",
      "\n",
      "Total Data :  3\n"
     ]
    }
   ],
   "source": [
    "# Create a function with nonkeyword variables\n",
    "\n",
    "def person_car(total_data, **kwargs):\n",
    "  '''Create a function to print who owns what car'''\n",
    "  print('Total Data : ', total_data)\n",
    "  for key, value in kwargs.items():\n",
    "    print('Person : ', key)\n",
    "    print('Car    : ', value)\n",
    "    print('')\n",
    "\n",
    "person_car(3, jimmy='chevrolet', frank='ford', tina='honda')\n",
    "person_car(3)\n",
    "\n",
    "# Parameters (jimmy='chevrolet', frank='ford', tina='honda') will be equal to\n",
    "# kwargs = {\n",
    "#     'jimmy': 'chevrolet',\n",
    "#     'frank': 'ford',\n",
    "#     'tina': 'honda'\n",
    "# }"
   ]
  },
  {
   "cell_type": "code",
   "execution_count": 11,
   "metadata": {},
   "outputs": [
    {
     "name": "stdout",
     "output_type": "stream",
     "text": [
      "Value of total :  30\n",
      "Value of total :  40\n"
     ]
    }
   ],
   "source": [
    "# Function definition is here\n",
    "sum = lambda arg1, arg2: arg1 + arg2\n",
    "\n",
    "# That lambda function will be equal to :\n",
    "# def sum(arg1, arg2):\n",
    "#     return arg1+arg2\n",
    "\n",
    "# Now you can call sum as a function\n",
    "print(\"Value of total : \", sum( 10, 20 ))\n",
    "print(\"Value of total : \", sum( 20, 20 ))"
   ]
  }
 ],
 "metadata": {
  "interpreter": {
   "hash": "40dd8ac0d9deade98bfeabe90f4917b89019717cb94bf6765b4ad8fd51991e19"
  },
  "kernelspec": {
   "display_name": "Python 3.6.5 ('base')",
   "language": "python",
   "name": "python3"
  },
  "language_info": {
   "codemirror_mode": {
    "name": "ipython",
    "version": 3
   },
   "file_extension": ".py",
   "mimetype": "text/x-python",
   "name": "python",
   "nbconvert_exporter": "python",
   "pygments_lexer": "ipython3",
   "version": "3.6.5"
  },
  "orig_nbformat": 4
 },
 "nbformat": 4,
 "nbformat_minor": 2
}
