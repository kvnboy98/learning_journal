{
 "cells": [
  {
   "cell_type": "markdown",
   "metadata": {},
   "source": [
    "# NON-GRADED CHALLENGE 2\n",
    "\n",
    "#### `KEVIN BOY GUNAWAN`\n",
    "#### `FTDS-009`"
   ]
  },
  {
   "cell_type": "markdown",
   "metadata": {},
   "source": [
    "#### Celcius ke Fahrenheit dan Sebaliknya"
   ]
  },
  {
   "cell_type": "code",
   "execution_count": 86,
   "metadata": {},
   "outputs": [],
   "source": [
    "def celfar(suhu, tipe):\n",
    "    if tipe == 'k2c': #kelvin 2 celcius\n",
    "        suhu2 = suhu - 273.15\n",
    "        return round(suhu2,2)\n",
    "    elif tipe == 'c2k': #celcius 2 kelvin\n",
    "        suhu2 = suhu + 273.15\n",
    "        return round(suhu2,2)\n",
    "    else:\n",
    "        print(\"wrong input! masukan dengan format celfar(suhu, tipe='c2k' atau tipe='k2c')\")"
   ]
  },
  {
   "cell_type": "code",
   "execution_count": 92,
   "metadata": {},
   "outputs": [
    {
     "name": "stdout",
     "output_type": "stream",
     "text": [
      "0 K = -273.15 C\n"
     ]
    }
   ],
   "source": [
    "#kelvin 2 celcius\n",
    "T1=0\n",
    "T2=celfar(T1, tipe = 'k2c')\n",
    "print(f\"{T1} K = {T2} C\")"
   ]
  },
  {
   "cell_type": "code",
   "execution_count": 93,
   "metadata": {},
   "outputs": [
    {
     "name": "stdout",
     "output_type": "stream",
     "text": [
      "320 C = 593.15 K\n"
     ]
    }
   ],
   "source": [
    "#celcius 2 kelvin\n",
    "T1=320\n",
    "T2=celfar(320, tipe = 'c2k')\n",
    "print(f\"{T1} C = {T2} K\")"
   ]
  },
  {
   "cell_type": "markdown",
   "metadata": {},
   "source": [
    "#### Celcius atau Kelvin ke Fahrenheit"
   ]
  },
  {
   "cell_type": "code",
   "execution_count": 79,
   "metadata": {},
   "outputs": [],
   "source": [
    "def to_far(suhu, tipe):\n",
    "    if tipe == 'c2f': #kondisi celcius 2 fahrenheit\n",
    "        suhu2 = (suhu*9/5) + 32\n",
    "        return round(suhu2,2)\n",
    "    elif tipe == 'k2f': #kondisi kelvin 2 fahrenheit\n",
    "        suhu2 = (celfar(suhu, 'k2c')*9/5) + 32\n",
    "        return round(suhu2,2)\n",
    "    else:\n",
    "        print(\"wrong input! masukan dengan format to_far(suhu, tipe='c2f' atau tipe='k2f')\")"
   ]
  },
  {
   "cell_type": "code",
   "execution_count": 94,
   "metadata": {},
   "outputs": [
    {
     "name": "stdout",
     "output_type": "stream",
     "text": [
      "15 C = 59.0 F\n"
     ]
    }
   ],
   "source": [
    "#celcius 2 fahrenheit\n",
    "T1=15\n",
    "T2=to_far(T1, 'c2f')\n",
    "print(f\"{T1} C = {T2} F\")"
   ]
  },
  {
   "cell_type": "code",
   "execution_count": 96,
   "metadata": {},
   "outputs": [
    {
     "name": "stdout",
     "output_type": "stream",
     "text": [
      "0 K = -459.67 F\n"
     ]
    }
   ],
   "source": [
    "#kelvin 2 fahrenheit\n",
    "T1=0\n",
    "T2=to_far(T1, 'k2f')\n",
    "print(f\"{T1} K = {T2} F\")"
   ]
  },
  {
   "cell_type": "markdown",
   "metadata": {},
   "source": [
    "#### Fahrenheit ke Celcius atau Kelvin"
   ]
  },
  {
   "cell_type": "code",
   "execution_count": 107,
   "metadata": {},
   "outputs": [],
   "source": [
    "def from_far(suhu, tipe):\n",
    "    if tipe == 'f2c': #kondisi fahreheit 2 celcius\n",
    "        suhu2 = (suhu-32)*5/9\n",
    "        return round(suhu2,2)\n",
    "    elif tipe == 'f2k': #kondisi kelvin 2 fahrenheit\n",
    "        suhu2 = (suhu-32)*5/9 + 273.15\n",
    "        return round(suhu2,2)\n",
    "    else:\n",
    "        print(\"wrong input! masukan dengan format to_far(suhu, tipe='f2c' atau tipe='f2k')\")"
   ]
  },
  {
   "cell_type": "code",
   "execution_count": 108,
   "metadata": {},
   "outputs": [
    {
     "name": "stdout",
     "output_type": "stream",
     "text": [
      "15 F = -9.44 C\n"
     ]
    }
   ],
   "source": [
    "#fahreheit 2 celcius\n",
    "T1=15\n",
    "T2=from_far(T1, 'f2c')\n",
    "print(f\"{T1} F = {T2} C\")"
   ]
  },
  {
   "cell_type": "code",
   "execution_count": 109,
   "metadata": {},
   "outputs": [
    {
     "name": "stdout",
     "output_type": "stream",
     "text": [
      "-50 F = 227.59 K\n"
     ]
    }
   ],
   "source": [
    "#fahreheit 2 kelvin\n",
    "T1=-50\n",
    "T2=from_far(T1, 'f2k')\n",
    "print(f\"{T1} F = {T2} K\")"
   ]
  }
 ],
 "metadata": {
  "interpreter": {
   "hash": "40dd8ac0d9deade98bfeabe90f4917b89019717cb94bf6765b4ad8fd51991e19"
  },
  "kernelspec": {
   "display_name": "Python 3.6.5 ('base')",
   "language": "python",
   "name": "python3"
  },
  "language_info": {
   "codemirror_mode": {
    "name": "ipython",
    "version": 3
   },
   "file_extension": ".py",
   "mimetype": "text/x-python",
   "name": "python",
   "nbconvert_exporter": "python",
   "pygments_lexer": "ipython3",
   "version": "3.6.5"
  },
  "orig_nbformat": 4
 },
 "nbformat": 4,
 "nbformat_minor": 2
}
